{
 "cells": [
  {
   "cell_type": "code",
   "execution_count": 110,
   "metadata": {
    "collapsed": true
   },
   "outputs": [],
   "source": [
    "import pandas as pd\n",
    "import numpy as np"
   ]
  },
  {
   "cell_type": "code",
   "execution_count": 111,
   "metadata": {
    "collapsed": true
   },
   "outputs": [],
   "source": [
    "pellet_raw = pd.read_csv('180911_SedPellet_Results.csv')"
   ]
  },
  {
   "cell_type": "code",
   "execution_count": 112,
   "metadata": {},
   "outputs": [
    {
     "data": {
      "text/html": [
       "<div>\n",
       "<style>\n",
       "    .dataframe thead tr:only-child th {\n",
       "        text-align: right;\n",
       "    }\n",
       "\n",
       "    .dataframe thead th {\n",
       "        text-align: left;\n",
       "    }\n",
       "\n",
       "    .dataframe tbody tr th {\n",
       "        vertical-align: top;\n",
       "    }\n",
       "</style>\n",
       "<table border=\"1\" class=\"dataframe\">\n",
       "  <thead>\n",
       "    <tr style=\"text-align: right;\">\n",
       "      <th></th>\n",
       "      <th></th>\n",
       "      <th>Label</th>\n",
       "      <th>Area</th>\n",
       "      <th>IntDen</th>\n",
       "      <th>RawIntDen</th>\n",
       "    </tr>\n",
       "  </thead>\n",
       "  <tbody>\n",
       "    <tr>\n",
       "      <th>0</th>\n",
       "      <td>1</td>\n",
       "      <td>180911_sedimentation_GABFAB-700.tif:0265-0701</td>\n",
       "      <td>0.082</td>\n",
       "      <td>42.943</td>\n",
       "      <td>149722</td>\n",
       "    </tr>\n",
       "    <tr>\n",
       "      <th>1</th>\n",
       "      <td>2</td>\n",
       "      <td>180911_sedimentation_GABFAB-700.tif:0249-0703</td>\n",
       "      <td>0.082</td>\n",
       "      <td>34.627</td>\n",
       "      <td>120731</td>\n",
       "    </tr>\n",
       "    <tr>\n",
       "      <th>2</th>\n",
       "      <td>3</td>\n",
       "      <td>180911_sedimentation_GABFAB-700.tif:0263-0733</td>\n",
       "      <td>0.082</td>\n",
       "      <td>45.165</td>\n",
       "      <td>157472</td>\n",
       "    </tr>\n",
       "    <tr>\n",
       "      <th>3</th>\n",
       "      <td>4</td>\n",
       "      <td>180911_sedimentation_GABFAB-700.tif:0250-0734</td>\n",
       "      <td>0.082</td>\n",
       "      <td>33.766</td>\n",
       "      <td>117728</td>\n",
       "    </tr>\n",
       "    <tr>\n",
       "      <th>4</th>\n",
       "      <td>5</td>\n",
       "      <td>180911_sedimentation_GABFAB-700.tif:0262-0768</td>\n",
       "      <td>0.082</td>\n",
       "      <td>65.314</td>\n",
       "      <td>227721</td>\n",
       "    </tr>\n",
       "    <tr>\n",
       "      <th>5</th>\n",
       "      <td>6</td>\n",
       "      <td>180911_sedimentation_GABFAB-700.tif:0245-0768</td>\n",
       "      <td>0.082</td>\n",
       "      <td>34.434</td>\n",
       "      <td>120056</td>\n",
       "    </tr>\n",
       "    <tr>\n",
       "      <th>6</th>\n",
       "      <td>7</td>\n",
       "      <td>180911_sedimentation_GABFAB-700.tif:0261-0803</td>\n",
       "      <td>0.082</td>\n",
       "      <td>50.445</td>\n",
       "      <td>175880</td>\n",
       "    </tr>\n",
       "    <tr>\n",
       "      <th>7</th>\n",
       "      <td>8</td>\n",
       "      <td>180911_sedimentation_GABFAB-700.tif:0242-0803</td>\n",
       "      <td>0.082</td>\n",
       "      <td>34.118</td>\n",
       "      <td>118954</td>\n",
       "    </tr>\n",
       "    <tr>\n",
       "      <th>8</th>\n",
       "      <td>9</td>\n",
       "      <td>180911_sedimentation_GABFAB-700.tif:0261-0838</td>\n",
       "      <td>0.082</td>\n",
       "      <td>52.185</td>\n",
       "      <td>181946</td>\n",
       "    </tr>\n",
       "    <tr>\n",
       "      <th>9</th>\n",
       "      <td>10</td>\n",
       "      <td>180911_sedimentation_GABFAB-700.tif:0247-0838</td>\n",
       "      <td>0.082</td>\n",
       "      <td>33.440</td>\n",
       "      <td>116590</td>\n",
       "    </tr>\n",
       "    <tr>\n",
       "      <th>10</th>\n",
       "      <td>11</td>\n",
       "      <td>180911_sedimentation_GABFAB-700.tif:0262-0874</td>\n",
       "      <td>0.082</td>\n",
       "      <td>50.171</td>\n",
       "      <td>174926</td>\n",
       "    </tr>\n",
       "    <tr>\n",
       "      <th>11</th>\n",
       "      <td>12</td>\n",
       "      <td>180911_sedimentation_GABFAB-700.tif:0248-0874</td>\n",
       "      <td>0.082</td>\n",
       "      <td>33.413</td>\n",
       "      <td>116498</td>\n",
       "    </tr>\n",
       "    <tr>\n",
       "      <th>12</th>\n",
       "      <td>13</td>\n",
       "      <td>180911_sedimentation_GABFAB-700.tif:0263-0907</td>\n",
       "      <td>0.082</td>\n",
       "      <td>49.237</td>\n",
       "      <td>171667</td>\n",
       "    </tr>\n",
       "    <tr>\n",
       "      <th>13</th>\n",
       "      <td>14</td>\n",
       "      <td>180911_sedimentation_GABFAB-700.tif:0241-0908</td>\n",
       "      <td>0.082</td>\n",
       "      <td>39.085</td>\n",
       "      <td>136274</td>\n",
       "    </tr>\n",
       "    <tr>\n",
       "      <th>14</th>\n",
       "      <td>15</td>\n",
       "      <td>180911_sedimentation_GABFAB-700.tif:0267-0942</td>\n",
       "      <td>0.082</td>\n",
       "      <td>50.204</td>\n",
       "      <td>175040</td>\n",
       "    </tr>\n",
       "    <tr>\n",
       "      <th>15</th>\n",
       "      <td>16</td>\n",
       "      <td>180911_sedimentation_GABFAB-700.tif:0244-0943</td>\n",
       "      <td>0.082</td>\n",
       "      <td>36.145</td>\n",
       "      <td>126022</td>\n",
       "    </tr>\n",
       "    <tr>\n",
       "      <th>16</th>\n",
       "      <td>17</td>\n",
       "      <td>180911_sedimentation_GABFAB-700.tif:0140-0698</td>\n",
       "      <td>0.211</td>\n",
       "      <td>94.909</td>\n",
       "      <td>330907</td>\n",
       "    </tr>\n",
       "    <tr>\n",
       "      <th>17</th>\n",
       "      <td>18</td>\n",
       "      <td>180911_sedimentation_GABFAB-700.tif:0178-0697</td>\n",
       "      <td>0.211</td>\n",
       "      <td>87.861</td>\n",
       "      <td>306332</td>\n",
       "    </tr>\n",
       "    <tr>\n",
       "      <th>18</th>\n",
       "      <td>19</td>\n",
       "      <td>180911_sedimentation_GABFAB-700.tif:0137-0733</td>\n",
       "      <td>0.211</td>\n",
       "      <td>93.157</td>\n",
       "      <td>324797</td>\n",
       "    </tr>\n",
       "    <tr>\n",
       "      <th>19</th>\n",
       "      <td>20</td>\n",
       "      <td>180911_sedimentation_GABFAB-700.tif:0161-0733</td>\n",
       "      <td>0.211</td>\n",
       "      <td>85.632</td>\n",
       "      <td>298563</td>\n",
       "    </tr>\n",
       "    <tr>\n",
       "      <th>20</th>\n",
       "      <td>21</td>\n",
       "      <td>180911_sedimentation_GABFAB-700.tif:0138-0770</td>\n",
       "      <td>0.211</td>\n",
       "      <td>1650.851</td>\n",
       "      <td>5755799</td>\n",
       "    </tr>\n",
       "    <tr>\n",
       "      <th>21</th>\n",
       "      <td>22</td>\n",
       "      <td>180911_sedimentation_GABFAB-700.tif:0205-0769</td>\n",
       "      <td>0.211</td>\n",
       "      <td>83.148</td>\n",
       "      <td>289901</td>\n",
       "    </tr>\n",
       "    <tr>\n",
       "      <th>22</th>\n",
       "      <td>23</td>\n",
       "      <td>180911_sedimentation_GABFAB-700.tif:0139-0805</td>\n",
       "      <td>0.211</td>\n",
       "      <td>1644.376</td>\n",
       "      <td>5733226</td>\n",
       "    </tr>\n",
       "    <tr>\n",
       "      <th>23</th>\n",
       "      <td>24</td>\n",
       "      <td>180911_sedimentation_GABFAB-700.tif:0185-0804</td>\n",
       "      <td>0.211</td>\n",
       "      <td>95.083</td>\n",
       "      <td>331513</td>\n",
       "    </tr>\n",
       "    <tr>\n",
       "      <th>24</th>\n",
       "      <td>25</td>\n",
       "      <td>180911_sedimentation_GABFAB-700.tif:0139-0840</td>\n",
       "      <td>0.211</td>\n",
       "      <td>1672.998</td>\n",
       "      <td>5833017</td>\n",
       "    </tr>\n",
       "    <tr>\n",
       "      <th>25</th>\n",
       "      <td>26</td>\n",
       "      <td>180911_sedimentation_GABFAB-700.tif:0183-0840</td>\n",
       "      <td>0.211</td>\n",
       "      <td>91.772</td>\n",
       "      <td>319968</td>\n",
       "    </tr>\n",
       "    <tr>\n",
       "      <th>26</th>\n",
       "      <td>27</td>\n",
       "      <td>180911_sedimentation_GABFAB-700.tif:0140-0875</td>\n",
       "      <td>0.211</td>\n",
       "      <td>1600.510</td>\n",
       "      <td>5580282</td>\n",
       "    </tr>\n",
       "    <tr>\n",
       "      <th>27</th>\n",
       "      <td>28</td>\n",
       "      <td>180911_sedimentation_GABFAB-700.tif:0195-0872</td>\n",
       "      <td>0.211</td>\n",
       "      <td>89.702</td>\n",
       "      <td>312752</td>\n",
       "    </tr>\n",
       "    <tr>\n",
       "      <th>28</th>\n",
       "      <td>29</td>\n",
       "      <td>180911_sedimentation_GABFAB-700.tif:0140-0910</td>\n",
       "      <td>0.211</td>\n",
       "      <td>1417.798</td>\n",
       "      <td>4943247</td>\n",
       "    </tr>\n",
       "    <tr>\n",
       "      <th>29</th>\n",
       "      <td>30</td>\n",
       "      <td>180911_sedimentation_GABFAB-700.tif:0206-0910</td>\n",
       "      <td>0.211</td>\n",
       "      <td>87.504</td>\n",
       "      <td>305088</td>\n",
       "    </tr>\n",
       "    <tr>\n",
       "      <th>30</th>\n",
       "      <td>31</td>\n",
       "      <td>180911_sedimentation_GABFAB-700.tif:0140-0945</td>\n",
       "      <td>0.211</td>\n",
       "      <td>1635.050</td>\n",
       "      <td>5700708</td>\n",
       "    </tr>\n",
       "    <tr>\n",
       "      <th>31</th>\n",
       "      <td>32</td>\n",
       "      <td>180911_sedimentation_GABFAB-700.tif:0205-0943</td>\n",
       "      <td>0.211</td>\n",
       "      <td>86.942</td>\n",
       "      <td>303129</td>\n",
       "    </tr>\n",
       "  </tbody>\n",
       "</table>\n",
       "</div>"
      ],
      "text/plain": [
       "                                                Label   Area    IntDen  \\\n",
       "0    1  180911_sedimentation_GABFAB-700.tif:0265-0701  0.082    42.943   \n",
       "1    2  180911_sedimentation_GABFAB-700.tif:0249-0703  0.082    34.627   \n",
       "2    3  180911_sedimentation_GABFAB-700.tif:0263-0733  0.082    45.165   \n",
       "3    4  180911_sedimentation_GABFAB-700.tif:0250-0734  0.082    33.766   \n",
       "4    5  180911_sedimentation_GABFAB-700.tif:0262-0768  0.082    65.314   \n",
       "5    6  180911_sedimentation_GABFAB-700.tif:0245-0768  0.082    34.434   \n",
       "6    7  180911_sedimentation_GABFAB-700.tif:0261-0803  0.082    50.445   \n",
       "7    8  180911_sedimentation_GABFAB-700.tif:0242-0803  0.082    34.118   \n",
       "8    9  180911_sedimentation_GABFAB-700.tif:0261-0838  0.082    52.185   \n",
       "9   10  180911_sedimentation_GABFAB-700.tif:0247-0838  0.082    33.440   \n",
       "10  11  180911_sedimentation_GABFAB-700.tif:0262-0874  0.082    50.171   \n",
       "11  12  180911_sedimentation_GABFAB-700.tif:0248-0874  0.082    33.413   \n",
       "12  13  180911_sedimentation_GABFAB-700.tif:0263-0907  0.082    49.237   \n",
       "13  14  180911_sedimentation_GABFAB-700.tif:0241-0908  0.082    39.085   \n",
       "14  15  180911_sedimentation_GABFAB-700.tif:0267-0942  0.082    50.204   \n",
       "15  16  180911_sedimentation_GABFAB-700.tif:0244-0943  0.082    36.145   \n",
       "16  17  180911_sedimentation_GABFAB-700.tif:0140-0698  0.211    94.909   \n",
       "17  18  180911_sedimentation_GABFAB-700.tif:0178-0697  0.211    87.861   \n",
       "18  19  180911_sedimentation_GABFAB-700.tif:0137-0733  0.211    93.157   \n",
       "19  20  180911_sedimentation_GABFAB-700.tif:0161-0733  0.211    85.632   \n",
       "20  21  180911_sedimentation_GABFAB-700.tif:0138-0770  0.211  1650.851   \n",
       "21  22  180911_sedimentation_GABFAB-700.tif:0205-0769  0.211    83.148   \n",
       "22  23  180911_sedimentation_GABFAB-700.tif:0139-0805  0.211  1644.376   \n",
       "23  24  180911_sedimentation_GABFAB-700.tif:0185-0804  0.211    95.083   \n",
       "24  25  180911_sedimentation_GABFAB-700.tif:0139-0840  0.211  1672.998   \n",
       "25  26  180911_sedimentation_GABFAB-700.tif:0183-0840  0.211    91.772   \n",
       "26  27  180911_sedimentation_GABFAB-700.tif:0140-0875  0.211  1600.510   \n",
       "27  28  180911_sedimentation_GABFAB-700.tif:0195-0872  0.211    89.702   \n",
       "28  29  180911_sedimentation_GABFAB-700.tif:0140-0910  0.211  1417.798   \n",
       "29  30  180911_sedimentation_GABFAB-700.tif:0206-0910  0.211    87.504   \n",
       "30  31  180911_sedimentation_GABFAB-700.tif:0140-0945  0.211  1635.050   \n",
       "31  32  180911_sedimentation_GABFAB-700.tif:0205-0943  0.211    86.942   \n",
       "\n",
       "    RawIntDen  \n",
       "0      149722  \n",
       "1      120731  \n",
       "2      157472  \n",
       "3      117728  \n",
       "4      227721  \n",
       "5      120056  \n",
       "6      175880  \n",
       "7      118954  \n",
       "8      181946  \n",
       "9      116590  \n",
       "10     174926  \n",
       "11     116498  \n",
       "12     171667  \n",
       "13     136274  \n",
       "14     175040  \n",
       "15     126022  \n",
       "16     330907  \n",
       "17     306332  \n",
       "18     324797  \n",
       "19     298563  \n",
       "20    5755799  \n",
       "21     289901  \n",
       "22    5733226  \n",
       "23     331513  \n",
       "24    5833017  \n",
       "25     319968  \n",
       "26    5580282  \n",
       "27     312752  \n",
       "28    4943247  \n",
       "29     305088  \n",
       "30    5700708  \n",
       "31     303129  "
      ]
     },
     "execution_count": 112,
     "metadata": {},
     "output_type": "execute_result"
    }
   ],
   "source": [
    "pellet_raw"
   ]
  },
  {
   "cell_type": "code",
   "execution_count": 113,
   "metadata": {
    "collapsed": true
   },
   "outputs": [],
   "source": [
    "exp = pd.Series([\"GF\", \"GF\", \"GF + A\", \"GF + A\", \"GF + A + Fas\", \"GF + A + Fas\", \"GF + A + Fim\", \"GF + A + Fim\"])"
   ]
  },
  {
   "cell_type": "code",
   "execution_count": 114,
   "metadata": {},
   "outputs": [
    {
     "data": {
      "text/plain": [
       "8"
      ]
     },
     "execution_count": 114,
     "metadata": {},
     "output_type": "execute_result"
    }
   ],
   "source": [
    "len(exp)"
   ]
  },
  {
   "cell_type": "code",
   "execution_count": 115,
   "metadata": {
    "collapsed": true
   },
   "outputs": [],
   "source": [
    "exp_data = pd.DataFrame()\n",
    "exp_data['Experiment'] = exp\n",
    "exp_data['GF_Fluor'] = list(pellet_raw.iloc[0:16:2]['IntDen'])\n",
    "exp_data['GF_Bg'] = list(pellet_raw.iloc[1:17:2]['IntDen'])\n",
    "exp_data['Actin_Fluor'] = list(pellet_raw.iloc[16:31:2]['IntDen'])\n",
    "exp_data['Actin_Bg'] = list(pellet_raw.iloc[17:32:2]['IntDen'])"
   ]
  },
  {
   "cell_type": "code",
   "execution_count": 116,
   "metadata": {},
   "outputs": [
    {
     "data": {
      "text/html": [
       "<div>\n",
       "<style>\n",
       "    .dataframe thead tr:only-child th {\n",
       "        text-align: right;\n",
       "    }\n",
       "\n",
       "    .dataframe thead th {\n",
       "        text-align: left;\n",
       "    }\n",
       "\n",
       "    .dataframe tbody tr th {\n",
       "        vertical-align: top;\n",
       "    }\n",
       "</style>\n",
       "<table border=\"1\" class=\"dataframe\">\n",
       "  <thead>\n",
       "    <tr style=\"text-align: right;\">\n",
       "      <th></th>\n",
       "      <th>Experiment</th>\n",
       "      <th>GF_Fluor</th>\n",
       "      <th>GF_Bg</th>\n",
       "      <th>Actin_Fluor</th>\n",
       "      <th>Actin_Bg</th>\n",
       "    </tr>\n",
       "  </thead>\n",
       "  <tbody>\n",
       "    <tr>\n",
       "      <th>0</th>\n",
       "      <td>GF</td>\n",
       "      <td>42.943</td>\n",
       "      <td>34.627</td>\n",
       "      <td>94.909</td>\n",
       "      <td>87.861</td>\n",
       "    </tr>\n",
       "    <tr>\n",
       "      <th>1</th>\n",
       "      <td>GF</td>\n",
       "      <td>45.165</td>\n",
       "      <td>33.766</td>\n",
       "      <td>93.157</td>\n",
       "      <td>85.632</td>\n",
       "    </tr>\n",
       "    <tr>\n",
       "      <th>2</th>\n",
       "      <td>GF + A</td>\n",
       "      <td>65.314</td>\n",
       "      <td>34.434</td>\n",
       "      <td>1650.851</td>\n",
       "      <td>83.148</td>\n",
       "    </tr>\n",
       "    <tr>\n",
       "      <th>3</th>\n",
       "      <td>GF + A</td>\n",
       "      <td>50.445</td>\n",
       "      <td>34.118</td>\n",
       "      <td>1644.376</td>\n",
       "      <td>95.083</td>\n",
       "    </tr>\n",
       "    <tr>\n",
       "      <th>4</th>\n",
       "      <td>GF + A + Fas</td>\n",
       "      <td>52.185</td>\n",
       "      <td>33.440</td>\n",
       "      <td>1672.998</td>\n",
       "      <td>91.772</td>\n",
       "    </tr>\n",
       "    <tr>\n",
       "      <th>5</th>\n",
       "      <td>GF + A + Fas</td>\n",
       "      <td>50.171</td>\n",
       "      <td>33.413</td>\n",
       "      <td>1600.510</td>\n",
       "      <td>89.702</td>\n",
       "    </tr>\n",
       "    <tr>\n",
       "      <th>6</th>\n",
       "      <td>GF + A + Fim</td>\n",
       "      <td>49.237</td>\n",
       "      <td>39.085</td>\n",
       "      <td>1417.798</td>\n",
       "      <td>87.504</td>\n",
       "    </tr>\n",
       "    <tr>\n",
       "      <th>7</th>\n",
       "      <td>GF + A + Fim</td>\n",
       "      <td>50.204</td>\n",
       "      <td>36.145</td>\n",
       "      <td>1635.050</td>\n",
       "      <td>86.942</td>\n",
       "    </tr>\n",
       "  </tbody>\n",
       "</table>\n",
       "</div>"
      ],
      "text/plain": [
       "     Experiment  GF_Fluor   GF_Bg  Actin_Fluor  Actin_Bg\n",
       "0            GF    42.943  34.627       94.909    87.861\n",
       "1            GF    45.165  33.766       93.157    85.632\n",
       "2        GF + A    65.314  34.434     1650.851    83.148\n",
       "3        GF + A    50.445  34.118     1644.376    95.083\n",
       "4  GF + A + Fas    52.185  33.440     1672.998    91.772\n",
       "5  GF + A + Fas    50.171  33.413     1600.510    89.702\n",
       "6  GF + A + Fim    49.237  39.085     1417.798    87.504\n",
       "7  GF + A + Fim    50.204  36.145     1635.050    86.942"
      ]
     },
     "execution_count": 116,
     "metadata": {},
     "output_type": "execute_result"
    }
   ],
   "source": [
    "exp_data"
   ]
  },
  {
   "cell_type": "code",
   "execution_count": 117,
   "metadata": {
    "collapsed": true
   },
   "outputs": [],
   "source": [
    "exp_data['GF_diff'] = exp_data['GF_Fluor'] - exp_data['GF_Bg']\n",
    "exp_data['Actin_diff'] = exp_data['Actin_Fluor'] - exp_data['Actin_Bg']"
   ]
  },
  {
   "cell_type": "code",
   "execution_count": 118,
   "metadata": {},
   "outputs": [
    {
     "data": {
      "text/html": [
       "<div>\n",
       "<style>\n",
       "    .dataframe thead tr:only-child th {\n",
       "        text-align: right;\n",
       "    }\n",
       "\n",
       "    .dataframe thead th {\n",
       "        text-align: left;\n",
       "    }\n",
       "\n",
       "    .dataframe tbody tr th {\n",
       "        vertical-align: top;\n",
       "    }\n",
       "</style>\n",
       "<table border=\"1\" class=\"dataframe\">\n",
       "  <thead>\n",
       "    <tr style=\"text-align: right;\">\n",
       "      <th></th>\n",
       "      <th>Experiment</th>\n",
       "      <th>GF_Fluor</th>\n",
       "      <th>GF_Bg</th>\n",
       "      <th>Actin_Fluor</th>\n",
       "      <th>Actin_Bg</th>\n",
       "      <th>GF_diff</th>\n",
       "      <th>Actin_diff</th>\n",
       "    </tr>\n",
       "  </thead>\n",
       "  <tbody>\n",
       "    <tr>\n",
       "      <th>0</th>\n",
       "      <td>GF</td>\n",
       "      <td>42.943</td>\n",
       "      <td>34.627</td>\n",
       "      <td>94.909</td>\n",
       "      <td>87.861</td>\n",
       "      <td>8.316</td>\n",
       "      <td>7.048</td>\n",
       "    </tr>\n",
       "    <tr>\n",
       "      <th>1</th>\n",
       "      <td>GF</td>\n",
       "      <td>45.165</td>\n",
       "      <td>33.766</td>\n",
       "      <td>93.157</td>\n",
       "      <td>85.632</td>\n",
       "      <td>11.399</td>\n",
       "      <td>7.525</td>\n",
       "    </tr>\n",
       "    <tr>\n",
       "      <th>2</th>\n",
       "      <td>GF + A</td>\n",
       "      <td>65.314</td>\n",
       "      <td>34.434</td>\n",
       "      <td>1650.851</td>\n",
       "      <td>83.148</td>\n",
       "      <td>30.880</td>\n",
       "      <td>1567.703</td>\n",
       "    </tr>\n",
       "    <tr>\n",
       "      <th>3</th>\n",
       "      <td>GF + A</td>\n",
       "      <td>50.445</td>\n",
       "      <td>34.118</td>\n",
       "      <td>1644.376</td>\n",
       "      <td>95.083</td>\n",
       "      <td>16.327</td>\n",
       "      <td>1549.293</td>\n",
       "    </tr>\n",
       "    <tr>\n",
       "      <th>4</th>\n",
       "      <td>GF + A + Fas</td>\n",
       "      <td>52.185</td>\n",
       "      <td>33.440</td>\n",
       "      <td>1672.998</td>\n",
       "      <td>91.772</td>\n",
       "      <td>18.745</td>\n",
       "      <td>1581.226</td>\n",
       "    </tr>\n",
       "    <tr>\n",
       "      <th>5</th>\n",
       "      <td>GF + A + Fas</td>\n",
       "      <td>50.171</td>\n",
       "      <td>33.413</td>\n",
       "      <td>1600.510</td>\n",
       "      <td>89.702</td>\n",
       "      <td>16.758</td>\n",
       "      <td>1510.808</td>\n",
       "    </tr>\n",
       "    <tr>\n",
       "      <th>6</th>\n",
       "      <td>GF + A + Fim</td>\n",
       "      <td>49.237</td>\n",
       "      <td>39.085</td>\n",
       "      <td>1417.798</td>\n",
       "      <td>87.504</td>\n",
       "      <td>10.152</td>\n",
       "      <td>1330.294</td>\n",
       "    </tr>\n",
       "    <tr>\n",
       "      <th>7</th>\n",
       "      <td>GF + A + Fim</td>\n",
       "      <td>50.204</td>\n",
       "      <td>36.145</td>\n",
       "      <td>1635.050</td>\n",
       "      <td>86.942</td>\n",
       "      <td>14.059</td>\n",
       "      <td>1548.108</td>\n",
       "    </tr>\n",
       "  </tbody>\n",
       "</table>\n",
       "</div>"
      ],
      "text/plain": [
       "     Experiment  GF_Fluor   GF_Bg  Actin_Fluor  Actin_Bg  GF_diff  Actin_diff\n",
       "0            GF    42.943  34.627       94.909    87.861    8.316       7.048\n",
       "1            GF    45.165  33.766       93.157    85.632   11.399       7.525\n",
       "2        GF + A    65.314  34.434     1650.851    83.148   30.880    1567.703\n",
       "3        GF + A    50.445  34.118     1644.376    95.083   16.327    1549.293\n",
       "4  GF + A + Fas    52.185  33.440     1672.998    91.772   18.745    1581.226\n",
       "5  GF + A + Fas    50.171  33.413     1600.510    89.702   16.758    1510.808\n",
       "6  GF + A + Fim    49.237  39.085     1417.798    87.504   10.152    1330.294\n",
       "7  GF + A + Fim    50.204  36.145     1635.050    86.942   14.059    1548.108"
      ]
     },
     "execution_count": 118,
     "metadata": {},
     "output_type": "execute_result"
    }
   ],
   "source": [
    "exp_data"
   ]
  },
  {
   "cell_type": "code",
   "execution_count": 119,
   "metadata": {
    "collapsed": true
   },
   "outputs": [],
   "source": [
    "exp_data['fold_actin'] = exp_data['Actin_diff'] / exp_data['Actin_diff'].iloc[2:8].min()\n",
    "exp_data.loc[0:1, 'fold_actin'] = 1"
   ]
  },
  {
   "cell_type": "code",
   "execution_count": 120,
   "metadata": {
    "collapsed": true
   },
   "outputs": [],
   "source": [
    "exp_data['adjusted_GF'] = exp_data['GF_diff'] / exp_data['fold_actin']"
   ]
  },
  {
   "cell_type": "code",
   "execution_count": 121,
   "metadata": {},
   "outputs": [
    {
     "data": {
      "text/html": [
       "<div>\n",
       "<style>\n",
       "    .dataframe thead tr:only-child th {\n",
       "        text-align: right;\n",
       "    }\n",
       "\n",
       "    .dataframe thead th {\n",
       "        text-align: left;\n",
       "    }\n",
       "\n",
       "    .dataframe tbody tr th {\n",
       "        vertical-align: top;\n",
       "    }\n",
       "</style>\n",
       "<table border=\"1\" class=\"dataframe\">\n",
       "  <thead>\n",
       "    <tr style=\"text-align: right;\">\n",
       "      <th></th>\n",
       "      <th>Experiment</th>\n",
       "      <th>GF_Fluor</th>\n",
       "      <th>GF_Bg</th>\n",
       "      <th>Actin_Fluor</th>\n",
       "      <th>Actin_Bg</th>\n",
       "      <th>GF_diff</th>\n",
       "      <th>Actin_diff</th>\n",
       "      <th>fold_actin</th>\n",
       "      <th>adjusted_GF</th>\n",
       "    </tr>\n",
       "  </thead>\n",
       "  <tbody>\n",
       "    <tr>\n",
       "      <th>0</th>\n",
       "      <td>GF</td>\n",
       "      <td>42.943</td>\n",
       "      <td>34.627</td>\n",
       "      <td>94.909</td>\n",
       "      <td>87.861</td>\n",
       "      <td>8.316</td>\n",
       "      <td>7.048</td>\n",
       "      <td>1.000000</td>\n",
       "      <td>8.316000</td>\n",
       "    </tr>\n",
       "    <tr>\n",
       "      <th>1</th>\n",
       "      <td>GF</td>\n",
       "      <td>45.165</td>\n",
       "      <td>33.766</td>\n",
       "      <td>93.157</td>\n",
       "      <td>85.632</td>\n",
       "      <td>11.399</td>\n",
       "      <td>7.525</td>\n",
       "      <td>1.000000</td>\n",
       "      <td>11.399000</td>\n",
       "    </tr>\n",
       "    <tr>\n",
       "      <th>2</th>\n",
       "      <td>GF + A</td>\n",
       "      <td>65.314</td>\n",
       "      <td>34.434</td>\n",
       "      <td>1650.851</td>\n",
       "      <td>83.148</td>\n",
       "      <td>30.880</td>\n",
       "      <td>1567.703</td>\n",
       "      <td>1.178464</td>\n",
       "      <td>26.203610</td>\n",
       "    </tr>\n",
       "    <tr>\n",
       "      <th>3</th>\n",
       "      <td>GF + A</td>\n",
       "      <td>50.445</td>\n",
       "      <td>34.118</td>\n",
       "      <td>1644.376</td>\n",
       "      <td>95.083</td>\n",
       "      <td>16.327</td>\n",
       "      <td>1549.293</td>\n",
       "      <td>1.164625</td>\n",
       "      <td>14.019111</td>\n",
       "    </tr>\n",
       "    <tr>\n",
       "      <th>4</th>\n",
       "      <td>GF + A + Fas</td>\n",
       "      <td>52.185</td>\n",
       "      <td>33.440</td>\n",
       "      <td>1672.998</td>\n",
       "      <td>91.772</td>\n",
       "      <td>18.745</td>\n",
       "      <td>1581.226</td>\n",
       "      <td>1.188629</td>\n",
       "      <td>15.770270</td>\n",
       "    </tr>\n",
       "    <tr>\n",
       "      <th>5</th>\n",
       "      <td>GF + A + Fas</td>\n",
       "      <td>50.171</td>\n",
       "      <td>33.413</td>\n",
       "      <td>1600.510</td>\n",
       "      <td>89.702</td>\n",
       "      <td>16.758</td>\n",
       "      <td>1510.808</td>\n",
       "      <td>1.135695</td>\n",
       "      <td>14.755725</td>\n",
       "    </tr>\n",
       "    <tr>\n",
       "      <th>6</th>\n",
       "      <td>GF + A + Fim</td>\n",
       "      <td>49.237</td>\n",
       "      <td>39.085</td>\n",
       "      <td>1417.798</td>\n",
       "      <td>87.504</td>\n",
       "      <td>10.152</td>\n",
       "      <td>1330.294</td>\n",
       "      <td>1.000000</td>\n",
       "      <td>10.152000</td>\n",
       "    </tr>\n",
       "    <tr>\n",
       "      <th>7</th>\n",
       "      <td>GF + A + Fim</td>\n",
       "      <td>50.204</td>\n",
       "      <td>36.145</td>\n",
       "      <td>1635.050</td>\n",
       "      <td>86.942</td>\n",
       "      <td>14.059</td>\n",
       "      <td>1548.108</td>\n",
       "      <td>1.163734</td>\n",
       "      <td>12.080942</td>\n",
       "    </tr>\n",
       "  </tbody>\n",
       "</table>\n",
       "</div>"
      ],
      "text/plain": [
       "     Experiment  GF_Fluor   GF_Bg  Actin_Fluor  Actin_Bg  GF_diff  Actin_diff  \\\n",
       "0            GF    42.943  34.627       94.909    87.861    8.316       7.048   \n",
       "1            GF    45.165  33.766       93.157    85.632   11.399       7.525   \n",
       "2        GF + A    65.314  34.434     1650.851    83.148   30.880    1567.703   \n",
       "3        GF + A    50.445  34.118     1644.376    95.083   16.327    1549.293   \n",
       "4  GF + A + Fas    52.185  33.440     1672.998    91.772   18.745    1581.226   \n",
       "5  GF + A + Fas    50.171  33.413     1600.510    89.702   16.758    1510.808   \n",
       "6  GF + A + Fim    49.237  39.085     1417.798    87.504   10.152    1330.294   \n",
       "7  GF + A + Fim    50.204  36.145     1635.050    86.942   14.059    1548.108   \n",
       "\n",
       "   fold_actin  adjusted_GF  \n",
       "0    1.000000     8.316000  \n",
       "1    1.000000    11.399000  \n",
       "2    1.178464    26.203610  \n",
       "3    1.164625    14.019111  \n",
       "4    1.188629    15.770270  \n",
       "5    1.135695    14.755725  \n",
       "6    1.000000    10.152000  \n",
       "7    1.163734    12.080942  "
      ]
     },
     "execution_count": 121,
     "metadata": {},
     "output_type": "execute_result"
    }
   ],
   "source": [
    "exp_data"
   ]
  },
  {
   "cell_type": "code",
   "execution_count": 196,
   "metadata": {
    "collapsed": true
   },
   "outputs": [],
   "source": [
    "def analyze_sedimentation(experiment, f_df, col = 'IntDen', no_actin = 2):\n",
    "    exp_data = pd.DataFrame()\n",
    "    len_exp = len(experiment)\n",
    "    exp_data['Experiment'] = experiment\n",
    "    exp_data['GF_Fluor'] = list(f_df.iloc[0:(2 * len_exp):2][col])\n",
    "    exp_data['GF_Bg'] = list(f_df.iloc[1:(2 * len_exp + 1):2][col])\n",
    "    exp_data['Actin_Fluor'] = list(f_df.iloc[(2 * len_exp):(4 * len_exp - 1):2][col])\n",
    "    exp_data['Actin_Bg'] = list(f_df.iloc[(2 * len_exp + 1):(4 * len_exp):2][col])\n",
    "    exp_data['GF_diff'] = exp_data['GF_Fluor'] - exp_data['GF_Bg']\n",
    "    exp_data['Actin_diff'] = exp_data['Actin_Fluor'] - exp_data['Actin_Bg']\n",
    "    if no_actin > 0:\n",
    "        exp_data['fold_actin'] = exp_data['Actin_diff'] / exp_data['Actin_diff'].iloc[no_actin:len(experiment)].min()\n",
    "        exp_data.loc[0:(no_actin - 1), 'fold_actin'] = 1\n",
    "    else:\n",
    "        exp_data['fold_actin'] = exp_data['Actin_diff'] / exp_data['Actin_diff'].min()\n",
    "    exp_data['adjusted_GF'] = exp_data['GF_diff'] / exp_data['fold_actin']\n",
    "    return exp_data"
   ]
  },
  {
   "cell_type": "code",
   "execution_count": 123,
   "metadata": {
    "collapsed": true
   },
   "outputs": [],
   "source": [
    "pellet_180911 = analyze_sedimentation(exp, pellet_raw)"
   ]
  },
  {
   "cell_type": "code",
   "execution_count": 124,
   "metadata": {},
   "outputs": [
    {
     "data": {
      "text/html": [
       "<div>\n",
       "<style>\n",
       "    .dataframe thead tr:only-child th {\n",
       "        text-align: right;\n",
       "    }\n",
       "\n",
       "    .dataframe thead th {\n",
       "        text-align: left;\n",
       "    }\n",
       "\n",
       "    .dataframe tbody tr th {\n",
       "        vertical-align: top;\n",
       "    }\n",
       "</style>\n",
       "<table border=\"1\" class=\"dataframe\">\n",
       "  <thead>\n",
       "    <tr style=\"text-align: right;\">\n",
       "      <th></th>\n",
       "      <th>Experiment</th>\n",
       "      <th>GF_Fluor</th>\n",
       "      <th>GF_Bg</th>\n",
       "      <th>Actin_Fluor</th>\n",
       "      <th>Actin_Bg</th>\n",
       "      <th>GF_diff</th>\n",
       "      <th>Actin_diff</th>\n",
       "      <th>fold_actin</th>\n",
       "      <th>adjusted_GF</th>\n",
       "    </tr>\n",
       "  </thead>\n",
       "  <tbody>\n",
       "    <tr>\n",
       "      <th>0</th>\n",
       "      <td>GF</td>\n",
       "      <td>42.943</td>\n",
       "      <td>34.627</td>\n",
       "      <td>94.909</td>\n",
       "      <td>87.861</td>\n",
       "      <td>8.316</td>\n",
       "      <td>7.048</td>\n",
       "      <td>1.000000</td>\n",
       "      <td>8.316000</td>\n",
       "    </tr>\n",
       "    <tr>\n",
       "      <th>1</th>\n",
       "      <td>GF</td>\n",
       "      <td>45.165</td>\n",
       "      <td>33.766</td>\n",
       "      <td>93.157</td>\n",
       "      <td>85.632</td>\n",
       "      <td>11.399</td>\n",
       "      <td>7.525</td>\n",
       "      <td>1.000000</td>\n",
       "      <td>11.399000</td>\n",
       "    </tr>\n",
       "    <tr>\n",
       "      <th>2</th>\n",
       "      <td>GF + A</td>\n",
       "      <td>65.314</td>\n",
       "      <td>34.434</td>\n",
       "      <td>1650.851</td>\n",
       "      <td>83.148</td>\n",
       "      <td>30.880</td>\n",
       "      <td>1567.703</td>\n",
       "      <td>1.178464</td>\n",
       "      <td>26.203610</td>\n",
       "    </tr>\n",
       "    <tr>\n",
       "      <th>3</th>\n",
       "      <td>GF + A</td>\n",
       "      <td>50.445</td>\n",
       "      <td>34.118</td>\n",
       "      <td>1644.376</td>\n",
       "      <td>95.083</td>\n",
       "      <td>16.327</td>\n",
       "      <td>1549.293</td>\n",
       "      <td>1.164625</td>\n",
       "      <td>14.019111</td>\n",
       "    </tr>\n",
       "    <tr>\n",
       "      <th>4</th>\n",
       "      <td>GF + A + Fas</td>\n",
       "      <td>52.185</td>\n",
       "      <td>33.440</td>\n",
       "      <td>1672.998</td>\n",
       "      <td>91.772</td>\n",
       "      <td>18.745</td>\n",
       "      <td>1581.226</td>\n",
       "      <td>1.188629</td>\n",
       "      <td>15.770270</td>\n",
       "    </tr>\n",
       "    <tr>\n",
       "      <th>5</th>\n",
       "      <td>GF + A + Fas</td>\n",
       "      <td>50.171</td>\n",
       "      <td>33.413</td>\n",
       "      <td>1600.510</td>\n",
       "      <td>89.702</td>\n",
       "      <td>16.758</td>\n",
       "      <td>1510.808</td>\n",
       "      <td>1.135695</td>\n",
       "      <td>14.755725</td>\n",
       "    </tr>\n",
       "    <tr>\n",
       "      <th>6</th>\n",
       "      <td>GF + A + Fim</td>\n",
       "      <td>49.237</td>\n",
       "      <td>39.085</td>\n",
       "      <td>1417.798</td>\n",
       "      <td>87.504</td>\n",
       "      <td>10.152</td>\n",
       "      <td>1330.294</td>\n",
       "      <td>1.000000</td>\n",
       "      <td>10.152000</td>\n",
       "    </tr>\n",
       "    <tr>\n",
       "      <th>7</th>\n",
       "      <td>GF + A + Fim</td>\n",
       "      <td>50.204</td>\n",
       "      <td>36.145</td>\n",
       "      <td>1635.050</td>\n",
       "      <td>86.942</td>\n",
       "      <td>14.059</td>\n",
       "      <td>1548.108</td>\n",
       "      <td>1.163734</td>\n",
       "      <td>12.080942</td>\n",
       "    </tr>\n",
       "  </tbody>\n",
       "</table>\n",
       "</div>"
      ],
      "text/plain": [
       "     Experiment  GF_Fluor   GF_Bg  Actin_Fluor  Actin_Bg  GF_diff  Actin_diff  \\\n",
       "0            GF    42.943  34.627       94.909    87.861    8.316       7.048   \n",
       "1            GF    45.165  33.766       93.157    85.632   11.399       7.525   \n",
       "2        GF + A    65.314  34.434     1650.851    83.148   30.880    1567.703   \n",
       "3        GF + A    50.445  34.118     1644.376    95.083   16.327    1549.293   \n",
       "4  GF + A + Fas    52.185  33.440     1672.998    91.772   18.745    1581.226   \n",
       "5  GF + A + Fas    50.171  33.413     1600.510    89.702   16.758    1510.808   \n",
       "6  GF + A + Fim    49.237  39.085     1417.798    87.504   10.152    1330.294   \n",
       "7  GF + A + Fim    50.204  36.145     1635.050    86.942   14.059    1548.108   \n",
       "\n",
       "   fold_actin  adjusted_GF  \n",
       "0    1.000000     8.316000  \n",
       "1    1.000000    11.399000  \n",
       "2    1.178464    26.203610  \n",
       "3    1.164625    14.019111  \n",
       "4    1.188629    15.770270  \n",
       "5    1.135695    14.755725  \n",
       "6    1.000000    10.152000  \n",
       "7    1.163734    12.080942  "
      ]
     },
     "execution_count": 124,
     "metadata": {},
     "output_type": "execute_result"
    }
   ],
   "source": [
    "pellet_180911"
   ]
  },
  {
   "cell_type": "code",
   "execution_count": 125,
   "metadata": {
    "collapsed": true
   },
   "outputs": [],
   "source": [
    "import matplotlib.pyplot as plt\n",
    "from scipy import stats\n",
    "%matplotlib inline"
   ]
  },
  {
   "cell_type": "code",
   "execution_count": 126,
   "metadata": {},
   "outputs": [
    {
     "data": {
      "text/plain": [
       "<matplotlib.axes._subplots.AxesSubplot at 0x1a1db0db38>"
      ]
     },
     "execution_count": 126,
     "metadata": {},
     "output_type": "execute_result"
    },
    {
     "data": {
      "image/png": "[encoded data removed]",
      "text/plain": [
       "<matplotlib.figure.Figure at 0x1a1da0ca58>"
      ]
     },
     "metadata": {},
     "output_type": "display_data"
    }
   ],
   "source": [
    "pellet_180911.plot(x = 'Experiment', y = 'adjusted_GF', kind = 'bar')"
   ]
  },
  {
   "cell_type": "code",
   "execution_count": 127,
   "metadata": {},
   "outputs": [
    {
     "data": {
      "text/plain": [
       "<matplotlib.axes._subplots.AxesSubplot at 0x1a1db14278>"
      ]
     },
     "execution_count": 127,
     "metadata": {},
     "output_type": "execute_result"
    },
    {
     "data": {
      "image/png": "[encoded data removed]",
      "text/plain": [
       "<matplotlib.figure.Figure at 0x1a1dbaeeb8>"
      ]
     },
     "metadata": {},
     "output_type": "display_data"
    }
   ],
   "source": [
    "sup_180911 = pd.read_csv('180911_SedSup_Results.csv')\n",
    "sup_180911 = analyze_sedimentation(exp, sup_180911)\n",
    "sup_180911.plot(x = 'Experiment', y = 'adjusted_GF', kind = 'bar')"
   ]
  },
  {
   "cell_type": "code",
   "execution_count": 128,
   "metadata": {},
   "outputs": [
    {
     "data": {
      "text/plain": [
       "<matplotlib.axes._subplots.AxesSubplot at 0x1a1d9fffd0>"
      ]
     },
     "execution_count": 128,
     "metadata": {},
     "output_type": "execute_result"
    },
    {
     "data": {
      "image/png": "[encoded data removed]",
      "text/plain": [
       "<matplotlib.figure.Figure at 0x1a1dbef630>"
      ]
     },
     "metadata": {},
     "output_type": "display_data"
    }
   ],
   "source": [
    "exp2 = pd.Series([\"GF\", \"GF\", \"GF + A\", \"GF + A\", \"GF + A + Fas\", \"GF + A + Fas\", \"GF + A + Fim\", \"GF + A + Fim\", \"GF + A + aact\", \"GF + A + aact\"])\n",
    "exp3 = pd.Series([\"GF\", \"GF\", \"GF + A\", \"GF + A\", \"GF + A + Fas\", \"GF + A + Fas\", \"GF + A + Fim\", \"GF + A + aact\", \"GF + A + aact\"])\n",
    "sup_180910 = pd.read_csv('180910_SedSup_Results.csv')\n",
    "sup_180910.drop(sup_180910.index[12:14], inplace = True)\n",
    "sup_180910.drop(sup_180910.index[32:34], inplace = True)\n",
    "sup_180910.reset_index(inplace = True)\n",
    "sup_180910 = analyze_sedimentation(exp3, sup_180910)\n",
    "sup_180910.plot(x = 'Experiment', y = 'adjusted_GF', kind = 'bar')"
   ]
  },
  {
   "cell_type": "code",
   "execution_count": 129,
   "metadata": {},
   "outputs": [
    {
     "data": {
      "text/plain": [
       "<matplotlib.axes._subplots.AxesSubplot at 0x117ce7ba8>"
      ]
     },
     "execution_count": 129,
     "metadata": {},
     "output_type": "execute_result"
    },
    {
     "data": {
      "image/png": "[encoded data removed]",
      "text/plain": [
       "<matplotlib.figure.Figure at 0x1a1d912240>"
      ]
     },
     "metadata": {},
     "output_type": "display_data"
    }
   ],
   "source": [
    "pellet_180910 = pd.read_csv('180910_SedPellet_Results.csv')\n",
    "pellet_180910.drop(pellet_180910.index[12:14], inplace = True)\n",
    "pellet_180910.drop(pellet_180910.index[32:34], inplace = True)\n",
    "pellet_180910.reset_index(inplace = True)\n",
    "pellet_180910 = analyze_sedimentation(exp3, pellet_180910)\n",
    "pellet_180910.plot(x = 'Experiment', y = 'adjusted_GF', kind = 'bar')"
   ]
  },
  {
   "cell_type": "code",
   "execution_count": null,
   "metadata": {
    "collapsed": true
   },
   "outputs": [],
   "source": []
  },
  {
   "cell_type": "code",
   "execution_count": 130,
   "metadata": {
    "collapsed": true
   },
   "outputs": [],
   "source": [
    "combined_pellet = pd.concat([pellet_180910, pellet_180911], axis = 0)\n",
    "combined_sup = pd.concat([sup_180910, sup_180911], axis = 0)"
   ]
  },
  {
   "cell_type": "code",
   "execution_count": 131,
   "metadata": {
    "collapsed": true
   },
   "outputs": [],
   "source": [
    "pellet_means = combined_pellet.groupby('Experiment').agg(np.mean)\n",
    "pellet_means.reset_index(inplace = True)\n",
    "pellet_se = combined_pellet.groupby('Experiment').agg(stats.sem)\n",
    "pellet_se.reset_index(inplace = True)"
   ]
  },
  {
   "cell_type": "code",
   "execution_count": 132,
   "metadata": {
    "collapsed": true
   },
   "outputs": [],
   "source": [
    "sup_means = combined_sup.groupby('Experiment').agg(np.mean)\n",
    "sup_means.reset_index(inplace = True)\n",
    "sup_se = combined_sup.groupby('Experiment').agg(stats.sem)\n",
    "sup_se.reset_index(inplace = True)"
   ]
  },
  {
   "cell_type": "code",
   "execution_count": 133,
   "metadata": {},
   "outputs": [
    {
     "data": {
      "text/plain": [
       "<matplotlib.axes._subplots.AxesSubplot at 0x1a1d904f60>"
      ]
     },
     "execution_count": 133,
     "metadata": {},
     "output_type": "execute_result"
    },
    {
     "data": {
      "image/png": "[encoded data removed]",
      "text/plain": [
       "<matplotlib.figure.Figure at 0x1a1daec588>"
      ]
     },
     "metadata": {},
     "output_type": "display_data"
    }
   ],
   "source": [
    "pellet_means.plot(x = 'Experiment', y = 'adjusted_GF', kind = 'bar')"
   ]
  },
  {
   "cell_type": "code",
   "execution_count": 134,
   "metadata": {},
   "outputs": [
    {
     "data": {
      "text/plain": [
       "<matplotlib.axes._subplots.AxesSubplot at 0x1a1daeceb8>"
      ]
     },
     "execution_count": 134,
     "metadata": {},
     "output_type": "execute_result"
    },
    {
     "data": {
      "image/png": "[encoded data removed]",
      "text/plain": [
       "<matplotlib.figure.Figure at 0x1a1d8fca58>"
      ]
     },
     "metadata": {},
     "output_type": "display_data"
    }
   ],
   "source": [
    "sup_means.plot(x = 'Experiment', y = 'adjusted_GF', kind = 'bar')"
   ]
  },
  {
   "cell_type": "code",
   "execution_count": 135,
   "metadata": {},
   "outputs": [
    {
     "data": {
      "image/png": "[encoded data removed]",
      "text/plain": [
       "<matplotlib.figure.Figure at 0x1a1da77198>"
      ]
     },
     "metadata": {},
     "output_type": "display_data"
    }
   ],
   "source": [
    "fig, ax = plt.subplots(figsize = (7,4))\n",
    "ind = np.arange(5)\n",
    "width = 0.4\n",
    "p1 = ax.bar(ind, sup_means['adjusted_GF'], width, color = 'r', yerr=sup_se['adjusted_GF'])\n",
    "p2 = ax.bar(ind + width, pellet_means['adjusted_GF'], width, color = 'lightskyblue', yerr = pellet_se['adjusted_GF'])\n",
    "ax.set_title('GABFAB Sedimentation')\n",
    "ax.set_xticks(ind + width / 2)\n",
    "ax.set_xticklabels(sup_means['Experiment'])\n",
    "ax.legend((p1[0], p2[0]), ('Supernatent', 'Pellet'))\n",
    "plt.savefig('GABFAB_SedGraph_180910_11.png')\n",
    "plt.show()"
   ]
  },
  {
   "cell_type": "code",
   "execution_count": 136,
   "metadata": {},
   "outputs": [
    {
     "data": {
      "text/plain": [
       "<matplotlib.axes._subplots.AxesSubplot at 0x1a1d95d320>"
      ]
     },
     "execution_count": 136,
     "metadata": {},
     "output_type": "execute_result"
    },
    {
     "data": {
      "image/png": "[encoded data removed]",
      "text/plain": [
       "<matplotlib.figure.Figure at 0x1a1da71cf8>"
      ]
     },
     "metadata": {},
     "output_type": "display_data"
    }
   ],
   "source": [
    "exp4 = pd.Series([\"GF + A\", \"GF + A\", \n",
    "                  \"GF + A + Fas\", \"GF + A + Fas\", \n",
    "                  \"GF + A nowait\", \"GF + A nowait\", \n",
    "                  \"GF + A + Fas nowait\", \"GF + A + Fas nowait\"])\n",
    "sup_180913 = pd.read_csv('180913_SedSup_Results.csv')\n",
    "sup_180913 = analyze_sedimentation(exp4, sup_180913, no_actin = 0)\n",
    "sup_180913.plot(x = 'Experiment', y = 'adjusted_GF', kind = 'bar')"
   ]
  },
  {
   "cell_type": "code",
   "execution_count": 137,
   "metadata": {},
   "outputs": [
    {
     "data": {
      "text/plain": [
       "<matplotlib.axes._subplots.AxesSubplot at 0x1a1e033438>"
      ]
     },
     "execution_count": 137,
     "metadata": {},
     "output_type": "execute_result"
    },
    {
     "data": {
      "image/png": "[encoded data removed]",
      "text/plain": [
       "<matplotlib.figure.Figure at 0x1a1dcfc7f0>"
      ]
     },
     "metadata": {},
     "output_type": "display_data"
    }
   ],
   "source": [
    "pellet_180913 = pd.read_csv('180913_SedPellet_Results.csv')\n",
    "pellet_180913 = analyze_sedimentation(exp4, pellet_180913, no_actin = 0)\n",
    "pellet_180913.plot(x = 'Experiment', y = 'adjusted_GF', kind = 'bar')"
   ]
  },
  {
   "cell_type": "code",
   "execution_count": 138,
   "metadata": {},
   "outputs": [
    {
     "data": {
      "image/png": "[encoded data removed]",
      "text/plain": [
       "<matplotlib.figure.Figure at 0x117c39e80>"
      ]
     },
     "metadata": {},
     "output_type": "display_data"
    }
   ],
   "source": [
    "pellet2_means = pellet_180913.groupby('Experiment').agg(np.mean)\n",
    "pellet2_means.reset_index(inplace = True)\n",
    "pellet2_se = pellet_180913.groupby('Experiment').agg(stats.sem)\n",
    "pellet2_se.reset_index(inplace = True)\n",
    "sup2_means = sup_180913.groupby('Experiment').agg(np.mean)\n",
    "sup2_means.reset_index(inplace = True)\n",
    "sup2_se = sup_180913.groupby('Experiment').agg(stats.sem)\n",
    "sup2_se.reset_index(inplace = True)\n",
    "\n",
    "fig, ax = plt.subplots(figsize = (7,4))\n",
    "ind = np.arange(4)\n",
    "width = 0.4\n",
    "p1 = ax.bar(ind, sup2_means['adjusted_GF'], width, color = 'r', yerr=sup2_se['adjusted_GF'])\n",
    "p2 = ax.bar(ind + width, pellet2_means['adjusted_GF'], width, color = 'lightskyblue', yerr = pellet2_se['adjusted_GF'])\n",
    "ax.set_title('GABFAB Sedimentation')\n",
    "ax.set_xticks(ind + width / 2)\n",
    "ax.set_xticklabels(sup2_means['Experiment'])\n",
    "ax.legend((p1[0], p2[0]), ('Supernatent', 'Pellet'))\n",
    "plt.savefig('GABFAB_SedGraph_180913.png')\n",
    "plt.show()"
   ]
  },
  {
   "cell_type": "code",
   "execution_count": 139,
   "metadata": {},
   "outputs": [
    {
     "data": {
      "text/html": [
       "<div>\n",
       "<style>\n",
       "    .dataframe thead tr:only-child th {\n",
       "        text-align: right;\n",
       "    }\n",
       "\n",
       "    .dataframe thead th {\n",
       "        text-align: left;\n",
       "    }\n",
       "\n",
       "    .dataframe tbody tr th {\n",
       "        vertical-align: top;\n",
       "    }\n",
       "</style>\n",
       "<table border=\"1\" class=\"dataframe\">\n",
       "  <thead>\n",
       "    <tr style=\"text-align: right;\">\n",
       "      <th></th>\n",
       "      <th>Experiment</th>\n",
       "      <th>GF_Fluor</th>\n",
       "      <th>GF_Bg</th>\n",
       "      <th>Actin_Fluor</th>\n",
       "      <th>Actin_Bg</th>\n",
       "      <th>GF_diff</th>\n",
       "      <th>Actin_diff</th>\n",
       "      <th>fold_actin</th>\n",
       "      <th>adjusted_GF</th>\n",
       "    </tr>\n",
       "  </thead>\n",
       "  <tbody>\n",
       "    <tr>\n",
       "      <th>0</th>\n",
       "      <td>GF + A</td>\n",
       "      <td>173.836</td>\n",
       "      <td>87.827</td>\n",
       "      <td>76.389</td>\n",
       "      <td>45.299</td>\n",
       "      <td>86.009</td>\n",
       "      <td>31.090</td>\n",
       "      <td>1.297200</td>\n",
       "      <td>66.303561</td>\n",
       "    </tr>\n",
       "    <tr>\n",
       "      <th>1</th>\n",
       "      <td>GF + A</td>\n",
       "      <td>233.770</td>\n",
       "      <td>88.904</td>\n",
       "      <td>82.956</td>\n",
       "      <td>45.536</td>\n",
       "      <td>144.866</td>\n",
       "      <td>37.420</td>\n",
       "      <td>1.561313</td>\n",
       "      <td>92.784699</td>\n",
       "    </tr>\n",
       "    <tr>\n",
       "      <th>2</th>\n",
       "      <td>GF + A + Fas</td>\n",
       "      <td>261.395</td>\n",
       "      <td>89.545</td>\n",
       "      <td>82.200</td>\n",
       "      <td>47.216</td>\n",
       "      <td>171.850</td>\n",
       "      <td>34.984</td>\n",
       "      <td>1.459674</td>\n",
       "      <td>117.731790</td>\n",
       "    </tr>\n",
       "    <tr>\n",
       "      <th>3</th>\n",
       "      <td>GF + A + Fas</td>\n",
       "      <td>260.553</td>\n",
       "      <td>82.332</td>\n",
       "      <td>86.918</td>\n",
       "      <td>48.889</td>\n",
       "      <td>178.221</td>\n",
       "      <td>38.029</td>\n",
       "      <td>1.586723</td>\n",
       "      <td>112.320143</td>\n",
       "    </tr>\n",
       "    <tr>\n",
       "      <th>4</th>\n",
       "      <td>GF + A nowait</td>\n",
       "      <td>245.218</td>\n",
       "      <td>85.991</td>\n",
       "      <td>70.118</td>\n",
       "      <td>46.151</td>\n",
       "      <td>159.227</td>\n",
       "      <td>23.967</td>\n",
       "      <td>1.000000</td>\n",
       "      <td>159.227000</td>\n",
       "    </tr>\n",
       "    <tr>\n",
       "      <th>5</th>\n",
       "      <td>GF + A nowait</td>\n",
       "      <td>269.605</td>\n",
       "      <td>102.703</td>\n",
       "      <td>79.235</td>\n",
       "      <td>47.694</td>\n",
       "      <td>166.902</td>\n",
       "      <td>31.541</td>\n",
       "      <td>1.316018</td>\n",
       "      <td>126.823507</td>\n",
       "    </tr>\n",
       "    <tr>\n",
       "      <th>6</th>\n",
       "      <td>GF + A + Fas nowait</td>\n",
       "      <td>251.585</td>\n",
       "      <td>92.211</td>\n",
       "      <td>88.531</td>\n",
       "      <td>45.413</td>\n",
       "      <td>159.374</td>\n",
       "      <td>43.118</td>\n",
       "      <td>1.799057</td>\n",
       "      <td>88.587519</td>\n",
       "    </tr>\n",
       "    <tr>\n",
       "      <th>7</th>\n",
       "      <td>GF + A + Fas nowait</td>\n",
       "      <td>263.904</td>\n",
       "      <td>88.445</td>\n",
       "      <td>83.574</td>\n",
       "      <td>45.443</td>\n",
       "      <td>175.459</td>\n",
       "      <td>38.131</td>\n",
       "      <td>1.590979</td>\n",
       "      <td>110.283650</td>\n",
       "    </tr>\n",
       "  </tbody>\n",
       "</table>\n",
       "</div>"
      ],
      "text/plain": [
       "            Experiment  GF_Fluor    GF_Bg  Actin_Fluor  Actin_Bg  GF_diff  \\\n",
       "0               GF + A   173.836   87.827       76.389    45.299   86.009   \n",
       "1               GF + A   233.770   88.904       82.956    45.536  144.866   \n",
       "2         GF + A + Fas   261.395   89.545       82.200    47.216  171.850   \n",
       "3         GF + A + Fas   260.553   82.332       86.918    48.889  178.221   \n",
       "4        GF + A nowait   245.218   85.991       70.118    46.151  159.227   \n",
       "5        GF + A nowait   269.605  102.703       79.235    47.694  166.902   \n",
       "6  GF + A + Fas nowait   251.585   92.211       88.531    45.413  159.374   \n",
       "7  GF + A + Fas nowait   263.904   88.445       83.574    45.443  175.459   \n",
       "\n",
       "   Actin_diff  fold_actin  adjusted_GF  \n",
       "0      31.090    1.297200    66.303561  \n",
       "1      37.420    1.561313    92.784699  \n",
       "2      34.984    1.459674   117.731790  \n",
       "3      38.029    1.586723   112.320143  \n",
       "4      23.967    1.000000   159.227000  \n",
       "5      31.541    1.316018   126.823507  \n",
       "6      43.118    1.799057    88.587519  \n",
       "7      38.131    1.590979   110.283650  "
      ]
     },
     "execution_count": 139,
     "metadata": {},
     "output_type": "execute_result"
    }
   ],
   "source": [
    "sup_180913"
   ]
  },
  {
   "cell_type": "markdown",
   "metadata": {
    "collapsed": true
   },
   "source": [
    "# Analysis for figure"
   ]
  },
  {
   "cell_type": "code",
   "execution_count": 324,
   "metadata": {},
   "outputs": [],
   "source": [
    "s1 = pd.read_csv('180917_1_SedSup_Results.csv')\n",
    "p1 = pd.read_csv('180917_1_SedPellet_Results.csv')\n",
    "s2 = pd.read_csv('180917_2_SedSup_Results.csv')\n",
    "p2 = pd.read_csv('180917_2_SedPellet_Results.csv')\n",
    "s3 = pd.read_csv('180917_3_SedSup_Results.csv')\n",
    "p3 = pd.read_csv('180917_3_SedPellet_Results.csv')\n",
    "s4 = pd.read_csv('180918_SedSup_Results.csv')\n",
    "p4 = pd.read_csv('180918_SedPellet_Results.csv')"
   ]
  },
  {
   "cell_type": "code",
   "execution_count": 325,
   "metadata": {
    "collapsed": true
   },
   "outputs": [],
   "source": [
    "exp1_3 = ['GF', 'GF', 'GF+Actin', 'GF+Actin', 'GF+Actin+Fas', 'GF+Actin+Fas']\n",
    "exp2 = ['GF', 'GF', 'GF+Actin', 'GF+Actin', 'GF+Actin+Fas']\n",
    "exp4 = ['GF', 'GF', 'GF+Actin', 'GF+Actin', 'GF+Actin+Fas', 'GF+Actin+Fas', 'GF+Actin+Fas']"
   ]
  },
  {
   "cell_type": "code",
   "execution_count": 326,
   "metadata": {},
   "outputs": [],
   "source": [
    "s1 = analyze_sedimentation(exp1_3, s1, col = 'RawIntDen')\n",
    "p1 = analyze_sedimentation(exp1_3, p1, col = 'RawIntDen')\n",
    "s2 = analyze_sedimentation(exp2, s2, col = 'RawIntDen')\n",
    "p2 = analyze_sedimentation(exp2, p2, col = 'RawIntDen')\n",
    "s3 = analyze_sedimentation(exp1_3, s3, col = 'RawIntDen')\n",
    "p3 = analyze_sedimentation(exp1_3, p3, col = 'RawIntDen')\n",
    "s4 = analyze_sedimentation(exp4, s4, col = 'RawIntDen')\n",
    "p4 = analyze_sedimentation(exp4, p4, col = 'RawIntDen')"
   ]
  },
  {
   "cell_type": "code",
   "execution_count": 327,
   "metadata": {},
   "outputs": [
    {
     "data": {
      "text/plain": [
       "<matplotlib.axes._subplots.AxesSubplot at 0x1a229dde48>"
      ]
     },
     "execution_count": 327,
     "metadata": {},
     "output_type": "execute_result"
    },
    {
     "data": {
      "image/png": "[encoded data removed]",
      "text/plain": [
       "<matplotlib.figure.Figure at 0x1a22774748>"
      ]
     },
     "metadata": {},
     "output_type": "display_data"
    }
   ],
   "source": [
    "s1.plot(x = 'Experiment', y = 'adjusted_GF', kind = 'bar')"
   ]
  },
  {
   "cell_type": "code",
   "execution_count": 328,
   "metadata": {},
   "outputs": [
    {
     "data": {
      "text/plain": [
       "<matplotlib.axes._subplots.AxesSubplot at 0x1a22acb5f8>"
      ]
     },
     "execution_count": 328,
     "metadata": {},
     "output_type": "execute_result"
    },
    {
     "data": {
      "image/png": "[encoded data removed]",
      "text/plain": [
       "<matplotlib.figure.Figure at 0x1a22781518>"
      ]
     },
     "metadata": {},
     "output_type": "display_data"
    }
   ],
   "source": [
    "p1.plot(x = 'Experiment', y = 'adjusted_GF', kind = 'bar')"
   ]
  },
  {
   "cell_type": "code",
   "execution_count": 329,
   "metadata": {},
   "outputs": [
    {
     "data": {
      "text/plain": [
       "<matplotlib.axes._subplots.AxesSubplot at 0x1a22b07940>"
      ]
     },
     "execution_count": 329,
     "metadata": {},
     "output_type": "execute_result"
    },
    {
     "data": {
      "image/png": "[encoded data removed]",
      "text/plain": [
       "<matplotlib.figure.Figure at 0x1a22b31828>"
      ]
     },
     "metadata": {},
     "output_type": "display_data"
    }
   ],
   "source": [
    "s2.plot(x = 'Experiment', y = 'adjusted_GF', kind = 'bar')"
   ]
  },
  {
   "cell_type": "code",
   "execution_count": 330,
   "metadata": {},
   "outputs": [
    {
     "data": {
      "text/plain": [
       "<matplotlib.axes._subplots.AxesSubplot at 0x1a22cdab38>"
      ]
     },
     "execution_count": 330,
     "metadata": {},
     "output_type": "execute_result"
    },
    {
     "data": {
      "image/png": "[encoded data removed]",
      "text/plain": [
       "<matplotlib.figure.Figure at 0x1a22c15908>"
      ]
     },
     "metadata": {},
     "output_type": "display_data"
    }
   ],
   "source": [
    "p2.plot(x = 'Experiment', y = 'adjusted_GF', kind = 'bar')"
   ]
  },
  {
   "cell_type": "code",
   "execution_count": 331,
   "metadata": {},
   "outputs": [
    {
     "data": {
      "text/plain": [
       "<matplotlib.axes._subplots.AxesSubplot at 0x1a22da99e8>"
      ]
     },
     "execution_count": 331,
     "metadata": {},
     "output_type": "execute_result"
    },
    {
     "data": {
      "image/png": "[encoded data removed]",
      "text/plain": [
       "<matplotlib.figure.Figure at 0x1a228652b0>"
      ]
     },
     "metadata": {},
     "output_type": "display_data"
    }
   ],
   "source": [
    "s3.plot(x = 'Experiment', y = 'adjusted_GF', kind = 'bar')"
   ]
  },
  {
   "cell_type": "code",
   "execution_count": 332,
   "metadata": {},
   "outputs": [
    {
     "data": {
      "text/plain": [
       "<matplotlib.axes._subplots.AxesSubplot at 0x1a22e851d0>"
      ]
     },
     "execution_count": 332,
     "metadata": {},
     "output_type": "execute_result"
    },
    {
     "data": {
      "image/png": "[encoded data removed]",
      "text/plain": [
       "<matplotlib.figure.Figure at 0x1a22e979b0>"
      ]
     },
     "metadata": {},
     "output_type": "display_data"
    }
   ],
   "source": [
    "p3.plot(x = 'Experiment', y = 'adjusted_GF', kind = 'bar')"
   ]
  },
  {
   "cell_type": "code",
   "execution_count": 333,
   "metadata": {},
   "outputs": [
    {
     "data": {
      "text/plain": [
       "<matplotlib.axes._subplots.AxesSubplot at 0x1a22dec438>"
      ]
     },
     "execution_count": 333,
     "metadata": {},
     "output_type": "execute_result"
    },
    {
     "data": {
      "image/png": "[encoded data removed]",
      "text/plain": [
       "<matplotlib.figure.Figure at 0x1a22f84048>"
      ]
     },
     "metadata": {},
     "output_type": "display_data"
    }
   ],
   "source": [
    "s4.plot(x = 'Experiment', y = 'adjusted_GF', kind = 'bar')"
   ]
  },
  {
   "cell_type": "code",
   "execution_count": 334,
   "metadata": {},
   "outputs": [
    {
     "data": {
      "text/plain": [
       "<matplotlib.axes._subplots.AxesSubplot at 0x1a22f7f978>"
      ]
     },
     "execution_count": 334,
     "metadata": {},
     "output_type": "execute_result"
    },
    {
     "data": {
      "image/png": "[encoded data removed]",
      "text/plain": [
       "<matplotlib.figure.Figure at 0x1a22e858d0>"
      ]
     },
     "metadata": {},
     "output_type": "display_data"
    }
   ],
   "source": [
    "p4.plot(x = 'Experiment', y = 'adjusted_GF', kind = 'bar')"
   ]
  },
  {
   "cell_type": "code",
   "execution_count": 335,
   "metadata": {},
   "outputs": [],
   "source": [
    "comb_pellet = pd.concat([p1,p2,p3,p4], axis = 0)\n",
    "comb_sup = pd.concat([s1,s2,s3,s4], axis = 0)"
   ]
  },
  {
   "cell_type": "code",
   "execution_count": 336,
   "metadata": {},
   "outputs": [],
   "source": [
    "p_means = comb_pellet.groupby('Experiment').agg(np.mean)\n",
    "p_means.reset_index(inplace = True)\n",
    "p_se = comb_pellet.groupby('Experiment').agg(stats.sem)\n",
    "p_se.reset_index(inplace = True)\n",
    "s_means = comb_sup.groupby('Experiment').agg(np.mean)\n",
    "s_means.reset_index(inplace = True)\n",
    "s_se = comb_sup.groupby('Experiment').agg(stats.sem)\n",
    "s_se.reset_index(inplace = True)"
   ]
  },
  {
   "cell_type": "code",
   "execution_count": 337,
   "metadata": {},
   "outputs": [
    {
     "data": {
      "image/png": "[encoded data removed]",
      "text/plain": [
       "<matplotlib.figure.Figure at 0x1a231843c8>"
      ]
     },
     "metadata": {},
     "output_type": "display_data"
    }
   ],
   "source": [
    "fig, ax = plt.subplots(figsize = (7,4))\n",
    "ind = np.arange(3)\n",
    "width = 0.4\n",
    "p1 = ax.bar(ind, s_means['adjusted_GF'], width, color = 'r', yerr=s_se['adjusted_GF'])\n",
    "p2 = ax.bar(ind + width, p_means['adjusted_GF'], width, color = 'lightskyblue', yerr = p_se['adjusted_GF'])\n",
    "ax.set_title('GABFAB Sedimentation')\n",
    "ax.set_xticks(ind + width / 2)\n",
    "ax.set_xticklabels(s_means['Experiment'])\n",
    "ax.legend((p1[0], p2[0]), ('Supernatent', 'Pellet'))\n",
    "plt.savefig('GABFAB_SedGraph_180917_18.png')\n",
    "plt.show()"
   ]
  },
  {
   "cell_type": "code",
   "execution_count": 338,
   "metadata": {},
   "outputs": [],
   "source": [
    "from scipy.stats import ttest_ind"
   ]
  },
  {
   "cell_type": "code",
   "execution_count": 339,
   "metadata": {
    "collapsed": true
   },
   "outputs": [],
   "source": [
    "s_gf = comb_sup[comb_sup['Experiment'] == 'GF']\n",
    "s_gf.name = 'sup GF'\n",
    "s_gfa = comb_sup[comb_sup['Experiment'] == 'GF+Actin']\n",
    "s_gfa.name = 'sup GF+Actin'\n",
    "s_gfaf = comb_sup[comb_sup['Experiment'] == 'GF+Actin+Fas']\n",
    "s_gfaf.name = 'sup GF+Actin+Fas'\n",
    "p_gf = comb_pellet[comb_sup['Experiment'] == 'GF']\n",
    "p_gf.name = 'pellet GF'\n",
    "p_gfa = comb_pellet[comb_sup['Experiment'] == 'GF+Actin']\n",
    "p_gfa.name = 'pellet GF+Actin'\n",
    "p_gfaf = comb_pellet[comb_sup['Experiment'] == 'GF+Actin+Fas']\n",
    "p_gfaf.name = 'pellet GF+Actin+Fas'"
   ]
  },
  {
   "cell_type": "code",
   "execution_count": 340,
   "metadata": {},
   "outputs": [],
   "source": [
    "sup_data = [s_gf, s_gfa, s_gfaf] \n",
    "pellet_data = [p_gf, p_gfa, p_gfaf]\n",
    "def get_stats(data, col = 'adjusted_GF'):\n",
    "    stat_data = []\n",
    "    for table1 in data:\n",
    "        for table2 in data:\n",
    "            stat = ttest_ind(table1[col], table2[col], equal_var = False)\n",
    "            stat_data.append([(table1.name, table2.name, stat)])\n",
    "            print('{} and {}: {}'.format(table1.name, table2.name, stat))\n",
    "    return stat_data"
   ]
  },
  {
   "cell_type": "code",
   "execution_count": 341,
   "metadata": {},
   "outputs": [
    {
     "name": "stdout",
     "output_type": "stream",
     "text": [
      "sup GF and sup GF: Ttest_indResult(statistic=0.0, pvalue=1.0)\n",
      "sup GF and sup GF+Actin: Ttest_indResult(statistic=0.95181344590938266, pvalue=0.35817606361711363)\n",
      "sup GF and sup GF+Actin+Fas: Ttest_indResult(statistic=1.9523133600403137, pvalue=0.071956169732578873)\n",
      "sup GF+Actin and sup GF: Ttest_indResult(statistic=-0.95181344590938266, pvalue=0.35817606361711363)\n",
      "sup GF+Actin and sup GF+Actin: Ttest_indResult(statistic=0.0, pvalue=1.0)\n",
      "sup GF+Actin and sup GF+Actin+Fas: Ttest_indResult(statistic=1.1519062812423386, pvalue=0.26868104963530576)\n",
      "sup GF+Actin+Fas and sup GF: Ttest_indResult(statistic=-1.9523133600403137, pvalue=0.071956169732578873)\n",
      "sup GF+Actin+Fas and sup GF+Actin: Ttest_indResult(statistic=-1.1519062812423386, pvalue=0.26868104963530576)\n",
      "sup GF+Actin+Fas and sup GF+Actin+Fas: Ttest_indResult(statistic=0.0, pvalue=1.0)\n"
     ]
    }
   ],
   "source": [
    "sup_stats = get_stats(sup_data)"
   ]
  },
  {
   "cell_type": "code",
   "execution_count": 342,
   "metadata": {},
   "outputs": [
    {
     "name": "stdout",
     "output_type": "stream",
     "text": [
      "pellet GF and pellet GF: Ttest_indResult(statistic=0.0, pvalue=1.0)\n",
      "pellet GF and pellet GF+Actin: Ttest_indResult(statistic=-1.5765357734121164, pvalue=0.14476021474209777)\n",
      "pellet GF and pellet GF+Actin+Fas: Ttest_indResult(statistic=-1.1207329540008155, pvalue=0.2813566712716058)\n",
      "pellet GF+Actin and pellet GF: Ttest_indResult(statistic=1.5765357734121164, pvalue=0.14476021474209777)\n",
      "pellet GF+Actin and pellet GF+Actin: Ttest_indResult(statistic=0.0, pvalue=1.0)\n",
      "pellet GF+Actin and pellet GF+Actin+Fas: Ttest_indResult(statistic=0.81498121435948034, pvalue=0.43257691258355524)\n",
      "pellet GF+Actin+Fas and pellet GF: Ttest_indResult(statistic=1.1207329540008155, pvalue=0.2813566712716058)\n",
      "pellet GF+Actin+Fas and pellet GF+Actin: Ttest_indResult(statistic=-0.81498121435948034, pvalue=0.43257691258355524)\n",
      "pellet GF+Actin+Fas and pellet GF+Actin+Fas: Ttest_indResult(statistic=0.0, pvalue=1.0)\n"
     ]
    }
   ],
   "source": [
    "pellet_stats = get_stats(pellet_data)"
   ]
  },
  {
   "cell_type": "code",
   "execution_count": 343,
   "metadata": {},
   "outputs": [
    {
     "data": {
      "image/png": "[encoded data removed]",
      "text/plain": [
       "<matplotlib.figure.Figure at 0x1a23163a58>"
      ]
     },
     "metadata": {},
     "output_type": "display_data"
    }
   ],
   "source": [
    "fig, ax = plt.subplots(figsize = (7,4))\n",
    "ind = np.arange(3)\n",
    "width = 0.4\n",
    "p1 = ax.bar(ind, s_means['GF_diff'], width, color = 'r', yerr=s_se['GF_diff'])\n",
    "p2 = ax.bar(ind + width, p_means['GF_diff'], width, color = 'lightskyblue', yerr = p_se['GF_diff'])\n",
    "ax.set_title('GABFAB Sedimentation')\n",
    "ax.set_xticks(ind + width / 2)\n",
    "ax.set_xticklabels(s_means['Experiment'])\n",
    "ax.legend((p1[0], p2[0]), ('Supernatent', 'Pellet'))\n",
    "#plt.savefig('GABFAB_SedGraph_180917_18.png')\n",
    "plt.show()"
   ]
  },
  {
   "cell_type": "code",
   "execution_count": 344,
   "metadata": {},
   "outputs": [
    {
     "name": "stdout",
     "output_type": "stream",
     "text": [
      "sup GF and sup GF: Ttest_indResult(statistic=0.0, pvalue=1.0)\n",
      "sup GF and sup GF+Actin: Ttest_indResult(statistic=0.56246524379318985, pvalue=0.58298546535810347)\n",
      "sup GF and sup GF+Actin+Fas: Ttest_indResult(statistic=0.4918212610496675, pvalue=0.63080613822841314)\n",
      "sup GF+Actin and sup GF: Ttest_indResult(statistic=-0.56246524379318985, pvalue=0.58298546535810347)\n",
      "sup GF+Actin and sup GF+Actin: Ttest_indResult(statistic=0.0, pvalue=1.0)\n",
      "sup GF+Actin and sup GF+Actin+Fas: Ttest_indResult(statistic=-0.086198277841247936, pvalue=0.93253064451804502)\n",
      "sup GF+Actin+Fas and sup GF: Ttest_indResult(statistic=-0.4918212610496675, pvalue=0.63080613822841314)\n",
      "sup GF+Actin+Fas and sup GF+Actin: Ttest_indResult(statistic=0.086198277841247936, pvalue=0.93253064451804502)\n",
      "sup GF+Actin+Fas and sup GF+Actin+Fas: Ttest_indResult(statistic=0.0, pvalue=1.0)\n"
     ]
    }
   ],
   "source": [
    "sup_stats = get_stats(sup_data, col = 'GF_diff')"
   ]
  },
  {
   "cell_type": "code",
   "execution_count": 345,
   "metadata": {},
   "outputs": [
    {
     "name": "stdout",
     "output_type": "stream",
     "text": [
      "pellet GF and pellet GF: Ttest_indResult(statistic=0.0, pvalue=1.0)\n",
      "pellet GF and pellet GF+Actin: Ttest_indResult(statistic=-2.2390796252209495, pvalue=0.046936844477346418)\n",
      "pellet GF and pellet GF+Actin+Fas: Ttest_indResult(statistic=-1.7536506042974922, pvalue=0.1017371758262417)\n",
      "pellet GF+Actin and pellet GF: Ttest_indResult(statistic=2.2390796252209495, pvalue=0.046936844477346418)\n",
      "pellet GF+Actin and pellet GF+Actin: Ttest_indResult(statistic=0.0, pvalue=1.0)\n",
      "pellet GF+Actin and pellet GF+Actin+Fas: Ttest_indResult(statistic=1.1431002443715796, pvalue=0.27934990897569539)\n",
      "pellet GF+Actin+Fas and pellet GF: Ttest_indResult(statistic=1.7536506042974922, pvalue=0.1017371758262417)\n",
      "pellet GF+Actin+Fas and pellet GF+Actin: Ttest_indResult(statistic=-1.1431002443715796, pvalue=0.27934990897569539)\n",
      "pellet GF+Actin+Fas and pellet GF+Actin+Fas: Ttest_indResult(statistic=0.0, pvalue=1.0)\n"
     ]
    }
   ],
   "source": [
    "pellet_stats = get_stats(pellet_data, col = 'GF_diff')"
   ]
  },
  {
   "cell_type": "code",
   "execution_count": null,
   "metadata": {
    "collapsed": true
   },
   "outputs": [],
   "source": []
  },
  {
   "cell_type": "code",
   "execution_count": null,
   "metadata": {
    "collapsed": true
   },
   "outputs": [],
   "source": []
  },
  {
   "cell_type": "code",
   "execution_count": null,
   "metadata": {
    "collapsed": true
   },
   "outputs": [],
   "source": []
  }
 ],
 "metadata": {
  "kernelspec": {
   "display_name": "Python 3",
   "language": "python",
   "name": "python3"
  },
  "language_info": {
   "codemirror_mode": {
    "name": "ipython",
    "version": 3
   },
   "file_extension": ".py",
   "mimetype": "text/x-python",
   "name": "python",
   "nbconvert_exporter": "python",
   "pygments_lexer": "ipython3",
   "version": "3.6.3"
  }
 },
 "nbformat": 4,
 "nbformat_minor": 2
}
