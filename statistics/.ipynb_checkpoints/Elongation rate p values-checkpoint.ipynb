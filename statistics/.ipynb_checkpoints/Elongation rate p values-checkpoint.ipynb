{
 "cells": [
  {
   "cell_type": "markdown",
   "metadata": {},
   "source": [
    "# Calculate p values for elongation rates\n",
    "Compare elongation rates for Ena tetramer, trimer, and dimer using students t-test"
   ]
  },
  {
   "cell_type": "code",
   "execution_count": 1,
   "metadata": {
    "collapsed": true
   },
   "outputs": [],
   "source": [
    "from scipy.stats import ttest_ind_from_stats\n",
    "import numpy as np\n",
    "import pandas as pd"
   ]
  },
  {
   "cell_type": "code",
   "execution_count": 9,
   "metadata": {
    "collapsed": true
   },
   "outputs": [],
   "source": [
    "#ttest_ind_from_stats(mean1 =, std1 =, nobs1=, mean2=, std2=, nobs2=, equal_var = False)"
   ]
  },
  {
   "cell_type": "code",
   "execution_count": 10,
   "metadata": {
    "collapsed": true
   },
   "outputs": [],
   "source": [
    "#df = pd.read_table('elongation.txt')"
   ]
  },
  {
   "cell_type": "code",
   "execution_count": 12,
   "metadata": {
    "collapsed": true
   },
   "outputs": [],
   "source": [
    "bund_df = df[['fas','fas std', 'aact', 'aact std', 'fim', 'fim std']]"
   ]
  },
  {
   "cell_type": "code",
   "execution_count": 14,
   "metadata": {
    "collapsed": true
   },
   "outputs": [],
   "source": [
    "iso_df = df[['fas', 'fas std', 'VASP', 'Vasp std', 'unc34', 'unc34 stdev']]"
   ]
  },
  {
   "cell_type": "code",
   "execution_count": 15,
   "metadata": {
    "collapsed": true
   },
   "outputs": [],
   "source": [
    "oligo_df = df[['fas', 'fas std', 'Dimer', 'Dimer std', 'Trimer', 'Trimer std']]"
   ]
  },
  {
   "cell_type": "code",
   "execution_count": 56,
   "metadata": {
    "collapsed": true
   },
   "outputs": [],
   "source": [
    "df = pd.read_table('elongation_2.txt')"
   ]
  },
  {
   "cell_type": "code",
   "execution_count": 57,
   "metadata": {
    "collapsed": true
   },
   "outputs": [],
   "source": [
    "x = np.arange(8)\n",
    "y = np.repeat(x, 3)\n",
    "y = pd.Series(y)"
   ]
  },
  {
   "cell_type": "code",
   "execution_count": 58,
   "metadata": {
    "collapsed": true
   },
   "outputs": [],
   "source": [
    "df = pd.concat((df, y), axis = 1)"
   ]
  },
  {
   "cell_type": "code",
   "execution_count": 59,
   "metadata": {},
   "outputs": [
    {
     "data": {
      "text/plain": [
       "24"
      ]
     },
     "execution_count": 59,
     "metadata": {},
     "output_type": "execute_result"
    }
   ],
   "source": [
    "z = np.arange(3)\n",
    "a = np.tile(z, 8)\n",
    "len(a)"
   ]
  },
  {
   "cell_type": "code",
   "execution_count": 60,
   "metadata": {
    "collapsed": true
   },
   "outputs": [],
   "source": [
    "df = pd.concat((df, pd.Series(a)), axis = 1)"
   ]
  },
  {
   "cell_type": "code",
   "execution_count": 61,
   "metadata": {},
   "outputs": [
    {
     "data": {
      "text/html": [
       "<div>\n",
       "<style>\n",
       "    .dataframe thead tr:only-child th {\n",
       "        text-align: right;\n",
       "    }\n",
       "\n",
       "    .dataframe thead th {\n",
       "        text-align: left;\n",
       "    }\n",
       "\n",
       "    .dataframe tbody tr th {\n",
       "        vertical-align: top;\n",
       "    }\n",
       "</style>\n",
       "<table border=\"1\" class=\"dataframe\">\n",
       "  <thead>\n",
       "    <tr style=\"text-align: right;\">\n",
       "      <th></th>\n",
       "      <th>Filament</th>\n",
       "      <th>Leading</th>\n",
       "      <th>Trailing</th>\n",
       "      <th>0</th>\n",
       "      <th>0</th>\n",
       "    </tr>\n",
       "  </thead>\n",
       "  <tbody>\n",
       "    <tr>\n",
       "      <th>19</th>\n",
       "      <td>trimer err</td>\n",
       "      <td>0.131100</td>\n",
       "      <td>0.101480</td>\n",
       "      <td>6</td>\n",
       "      <td>1</td>\n",
       "    </tr>\n",
       "    <tr>\n",
       "      <th>20</th>\n",
       "      <td>trimer std</td>\n",
       "      <td>0.185403</td>\n",
       "      <td>0.143514</td>\n",
       "      <td>6</td>\n",
       "      <td>2</td>\n",
       "    </tr>\n",
       "    <tr>\n",
       "      <th>21</th>\n",
       "      <td>singed</td>\n",
       "      <td>2.384536</td>\n",
       "      <td>2.138635</td>\n",
       "      <td>7</td>\n",
       "      <td>0</td>\n",
       "    </tr>\n",
       "    <tr>\n",
       "      <th>22</th>\n",
       "      <td>singed err</td>\n",
       "      <td>0.076784</td>\n",
       "      <td>0.154434</td>\n",
       "      <td>7</td>\n",
       "      <td>1</td>\n",
       "    </tr>\n",
       "    <tr>\n",
       "      <th>23</th>\n",
       "      <td>singed std</td>\n",
       "      <td>0.108590</td>\n",
       "      <td>0.218403</td>\n",
       "      <td>7</td>\n",
       "      <td>2</td>\n",
       "    </tr>\n",
       "  </tbody>\n",
       "</table>\n",
       "</div>"
      ],
      "text/plain": [
       "      Filament   Leading  Trailing  0  0\n",
       "19  trimer err  0.131100  0.101480  6  1\n",
       "20  trimer std  0.185403  0.143514  6  2\n",
       "21      singed  2.384536  2.138635  7  0\n",
       "22  singed err  0.076784  0.154434  7  1\n",
       "23  singed std  0.108590  0.218403  7  2"
      ]
     },
     "execution_count": 61,
     "metadata": {},
     "output_type": "execute_result"
    }
   ],
   "source": [
    "df.tail()"
   ]
  },
  {
   "cell_type": "code",
   "execution_count": 62,
   "metadata": {
    "collapsed": true
   },
   "outputs": [],
   "source": [
    "df.columns = ['filament', 'leading', 'trailing', 'exp', 'data']"
   ]
  },
  {
   "cell_type": "code",
   "execution_count": 63,
   "metadata": {},
   "outputs": [
    {
     "data": {
      "text/html": [
       "<div>\n",
       "<style>\n",
       "    .dataframe thead tr:only-child th {\n",
       "        text-align: right;\n",
       "    }\n",
       "\n",
       "    .dataframe thead th {\n",
       "        text-align: left;\n",
       "    }\n",
       "\n",
       "    .dataframe tbody tr th {\n",
       "        vertical-align: top;\n",
       "    }\n",
       "</style>\n",
       "<table border=\"1\" class=\"dataframe\">\n",
       "  <thead>\n",
       "    <tr style=\"text-align: right;\">\n",
       "      <th></th>\n",
       "      <th>filament</th>\n",
       "      <th>leading</th>\n",
       "      <th>trailing</th>\n",
       "      <th>exp</th>\n",
       "      <th>data</th>\n",
       "    </tr>\n",
       "  </thead>\n",
       "  <tbody>\n",
       "    <tr>\n",
       "      <th>19</th>\n",
       "      <td>trimer err</td>\n",
       "      <td>0.131100</td>\n",
       "      <td>0.101480</td>\n",
       "      <td>6</td>\n",
       "      <td>1</td>\n",
       "    </tr>\n",
       "    <tr>\n",
       "      <th>20</th>\n",
       "      <td>trimer std</td>\n",
       "      <td>0.185403</td>\n",
       "      <td>0.143514</td>\n",
       "      <td>6</td>\n",
       "      <td>2</td>\n",
       "    </tr>\n",
       "    <tr>\n",
       "      <th>21</th>\n",
       "      <td>singed</td>\n",
       "      <td>2.384536</td>\n",
       "      <td>2.138635</td>\n",
       "      <td>7</td>\n",
       "      <td>0</td>\n",
       "    </tr>\n",
       "    <tr>\n",
       "      <th>22</th>\n",
       "      <td>singed err</td>\n",
       "      <td>0.076784</td>\n",
       "      <td>0.154434</td>\n",
       "      <td>7</td>\n",
       "      <td>1</td>\n",
       "    </tr>\n",
       "    <tr>\n",
       "      <th>23</th>\n",
       "      <td>singed std</td>\n",
       "      <td>0.108590</td>\n",
       "      <td>0.218403</td>\n",
       "      <td>7</td>\n",
       "      <td>2</td>\n",
       "    </tr>\n",
       "  </tbody>\n",
       "</table>\n",
       "</div>"
      ],
      "text/plain": [
       "      filament   leading  trailing  exp  data\n",
       "19  trimer err  0.131100  0.101480    6     1\n",
       "20  trimer std  0.185403  0.143514    6     2\n",
       "21      singed  2.384536  2.138635    7     0\n",
       "22  singed err  0.076784  0.154434    7     1\n",
       "23  singed std  0.108590  0.218403    7     2"
      ]
     },
     "execution_count": 63,
     "metadata": {},
     "output_type": "execute_result"
    }
   ],
   "source": [
    "df.tail()"
   ]
  },
  {
   "cell_type": "code",
   "execution_count": 64,
   "metadata": {
    "collapsed": true
   },
   "outputs": [],
   "source": [
    "test = df[df.exp == 1]"
   ]
  },
  {
   "cell_type": "code",
   "execution_count": 65,
   "metadata": {
    "collapsed": true
   },
   "outputs": [],
   "source": [
    "std = test[test.data == 2]\n",
    "mean = test[test.data == 0]"
   ]
  },
  {
   "cell_type": "code",
   "execution_count": 66,
   "metadata": {},
   "outputs": [
    {
     "name": "stdout",
     "output_type": "stream",
     "text": [
      "['fas'] ['fas']\n",
      "Ttest_indResult(statistic=array([ 0.]), pvalue=array([ 1.]))\n",
      "['fas'] ['aact']\n",
      "Ttest_indResult(statistic=array([-0.69026596]), pvalue=array([ 0.60159906]))\n",
      "['fas'] ['fim']\n",
      "Ttest_indResult(statistic=array([-1.133095]), pvalue=array([ 0.44763979]))\n",
      "['fas'] ['vasp']\n",
      "Ttest_indResult(statistic=array([ 0.5188027]), pvalue=array([ 0.68987779]))\n",
      "['fas'] ['unc34']\n",
      "Ttest_indResult(statistic=array([-0.65460619]), pvalue=array([ 0.61357631]))\n",
      "['fas'] ['dimer']\n",
      "Ttest_indResult(statistic=array([ 13.5296919]), pvalue=array([ 0.03299457]))\n",
      "['fas'] ['trimer']\n",
      "Ttest_indResult(statistic=array([ 5.34524468]), pvalue=array([ 0.0499509]))\n",
      "['fas'] ['singed']\n",
      "Ttest_indResult(statistic=array([ 1.59655338]), pvalue=array([ 0.25153731]))\n",
      "['aact'] ['fas']\n",
      "Ttest_indResult(statistic=array([ 0.69026596]), pvalue=array([ 0.60159906]))\n",
      "['aact'] ['aact']\n",
      "Ttest_indResult(statistic=array([ 0.]), pvalue=array([ 1.]))\n",
      "['aact'] ['fim']\n",
      "Ttest_indResult(statistic=array([-0.49885226]), pvalue=array([ 0.67081908]))\n",
      "['aact'] ['vasp']\n",
      "Ttest_indResult(statistic=array([ 0.84770074]), pvalue=array([ 0.49409821]))\n",
      "['aact'] ['unc34']\n",
      "Ttest_indResult(statistic=array([ 0.10263769]), pvalue=array([ 0.92784666]))\n",
      "['aact'] ['dimer']\n",
      "Ttest_indResult(statistic=array([ 4.74777606]), pvalue=array([ 0.12988366]))\n",
      "['aact'] ['trimer']\n",
      "Ttest_indResult(statistic=array([ 3.34174621]), pvalue=array([ 0.12186887]))\n",
      "['aact'] ['singed']\n",
      "Ttest_indResult(statistic=array([ 1.30985709]), pvalue=array([ 0.39240811]))\n",
      "['fim'] ['fas']\n",
      "Ttest_indResult(statistic=array([ 1.133095]), pvalue=array([ 0.44763979]))\n",
      "['fim'] ['aact']\n",
      "Ttest_indResult(statistic=array([ 0.49885226]), pvalue=array([ 0.67081908]))\n",
      "['fim'] ['fim']\n",
      "Ttest_indResult(statistic=array([ 0.]), pvalue=array([ 1.]))\n",
      "['fim'] ['vasp']\n",
      "Ttest_indResult(statistic=array([ 1.18245867]), pvalue=array([ 0.35881379]))\n",
      "['fim'] ['unc34']\n",
      "Ttest_indResult(statistic=array([ 0.61150283]), pvalue=array([ 0.61297804]))\n",
      "['fim'] ['dimer']\n",
      "Ttest_indResult(statistic=array([ 4.17184896]), pvalue=array([ 0.14845366]))\n",
      "['fim'] ['trimer']\n",
      "Ttest_indResult(statistic=array([ 3.19145335]), pvalue=array([ 0.1516826]))\n",
      "['fim'] ['singed']\n",
      "Ttest_indResult(statistic=array([ 1.6036942]), pvalue=array([ 0.34016615]))\n",
      "['vasp'] ['fas']\n",
      "Ttest_indResult(statistic=array([-0.5188027]), pvalue=array([ 0.68987779]))\n",
      "['vasp'] ['aact']\n",
      "Ttest_indResult(statistic=array([-0.84770074]), pvalue=array([ 0.49409821]))\n",
      "['vasp'] ['fim']\n",
      "Ttest_indResult(statistic=array([-1.18245867]), pvalue=array([ 0.35881379]))\n",
      "['vasp'] ['vasp']\n",
      "Ttest_indResult(statistic=array([ 0.]), pvalue=array([ 1.]))\n",
      "['vasp'] ['unc34']\n",
      "Ttest_indResult(statistic=array([-0.80987909]), pvalue=array([ 0.51883432]))\n",
      "['vasp'] ['dimer']\n",
      "Ttest_indResult(statistic=array([ 2.33853523]), pvalue=array([ 0.25600236]))\n",
      "['vasp'] ['trimer']\n",
      "Ttest_indResult(statistic=array([ 1.50641696]), pvalue=array([ 0.33882819]))\n",
      "['vasp'] ['singed']\n",
      "Ttest_indResult(statistic=array([-0.07229056]), pvalue=array([ 0.95339219]))\n",
      "['unc34'] ['fas']\n",
      "Ttest_indResult(statistic=array([ 0.65460619]), pvalue=array([ 0.61357631]))\n",
      "['unc34'] ['aact']\n",
      "Ttest_indResult(statistic=array([-0.10263769]), pvalue=array([ 0.92784666]))\n",
      "['unc34'] ['fim']\n",
      "Ttest_indResult(statistic=array([-0.61150283]), pvalue=array([ 0.61297804]))\n",
      "['unc34'] ['vasp']\n",
      "Ttest_indResult(statistic=array([ 0.80987909]), pvalue=array([ 0.51883432]))\n",
      "['unc34'] ['unc34']\n",
      "Ttest_indResult(statistic=array([ 0.]), pvalue=array([ 1.]))\n",
      "['unc34'] ['dimer']\n",
      "Ttest_indResult(statistic=array([ 5.4575858]), pvalue=array([ 0.11233968]))\n",
      "['unc34'] ['trimer']\n",
      "Ttest_indResult(statistic=array([ 3.67874411]), pvalue=array([ 0.09377044]))\n",
      "['unc34'] ['singed']\n",
      "Ttest_indResult(statistic=array([ 1.37806484]), pvalue=array([ 0.36822746]))\n",
      "['dimer'] ['fas']\n",
      "Ttest_indResult(statistic=array([-13.5296919]), pvalue=array([ 0.03299457]))\n",
      "['dimer'] ['aact']\n",
      "Ttest_indResult(statistic=array([-4.74777606]), pvalue=array([ 0.12988366]))\n",
      "['dimer'] ['fim']\n",
      "Ttest_indResult(statistic=array([-4.17184896]), pvalue=array([ 0.14845366]))\n",
      "['dimer'] ['vasp']\n",
      "Ttest_indResult(statistic=array([-2.33853523]), pvalue=array([ 0.25600236]))\n",
      "['dimer'] ['unc34']\n",
      "Ttest_indResult(statistic=array([-5.4575858]), pvalue=array([ 0.11233968]))\n",
      "['dimer'] ['dimer']\n",
      "Ttest_indResult(statistic=array([ 0.]), pvalue=array([ 1.]))\n",
      "['dimer'] ['trimer']\n",
      "Ttest_indResult(statistic=array([-2.18104835]), pvalue=array([ 0.2633638]))\n",
      "['dimer'] ['singed']\n",
      "Ttest_indResult(statistic=array([-11.68375037]), pvalue=array([ 0.03830178]))\n",
      "['trimer'] ['fas']\n",
      "Ttest_indResult(statistic=array([-5.34524468]), pvalue=array([ 0.0499509]))\n",
      "['trimer'] ['aact']\n",
      "Ttest_indResult(statistic=array([-3.34174621]), pvalue=array([ 0.12186887]))\n",
      "['trimer'] ['fim']\n",
      "Ttest_indResult(statistic=array([-3.19145335]), pvalue=array([ 0.1516826]))\n",
      "['trimer'] ['vasp']\n",
      "Ttest_indResult(statistic=array([-1.50641696]), pvalue=array([ 0.33882819]))\n",
      "['trimer'] ['unc34']\n",
      "Ttest_indResult(statistic=array([-3.67874411]), pvalue=array([ 0.09377044]))\n",
      "['trimer'] ['dimer']\n",
      "Ttest_indResult(statistic=array([ 2.18104835]), pvalue=array([ 0.2633638]))\n",
      "['trimer'] ['trimer']\n",
      "Ttest_indResult(statistic=array([ 0.]), pvalue=array([ 1.]))\n",
      "['trimer'] ['singed']\n",
      "Ttest_indResult(statistic=array([-4.22715353]), pvalue=array([ 0.07401692]))\n",
      "['singed'] ['fas']\n",
      "Ttest_indResult(statistic=array([-1.59655338]), pvalue=array([ 0.25153731]))\n",
      "['singed'] ['aact']\n",
      "Ttest_indResult(statistic=array([-1.30985709]), pvalue=array([ 0.39240811]))\n",
      "['singed'] ['fim']\n",
      "Ttest_indResult(statistic=array([-1.6036942]), pvalue=array([ 0.34016615]))\n",
      "['singed'] ['vasp']\n",
      "Ttest_indResult(statistic=array([ 0.07229056]), pvalue=array([ 0.95339219]))\n",
      "['singed'] ['unc34']\n",
      "Ttest_indResult(statistic=array([-1.37806484]), pvalue=array([ 0.36822746]))\n",
      "['singed'] ['dimer']\n",
      "Ttest_indResult(statistic=array([ 11.68375037]), pvalue=array([ 0.03830178]))\n",
      "['singed'] ['trimer']\n",
      "Ttest_indResult(statistic=array([ 4.22715353]), pvalue=array([ 0.07401692]))\n",
      "['singed'] ['singed']\n",
      "Ttest_indResult(statistic=array([ 0.]), pvalue=array([ 1.]))\n"
     ]
    }
   ],
   "source": [
    "for ind1 in x:\n",
    "    for ind2 in x:\n",
    "        data1 = df[df.exp == ind1]\n",
    "        data2 = df[df.exp == ind2]\n",
    "        m1 = data1[data1.data == 0]['leading']\n",
    "        m2 = data2[data2.data == 0]['leading']\n",
    "        s1 = data1[data1.data == 2]['leading']\n",
    "        s2 = data2[data2.data == 2]['leading']\n",
    "        ans = ttest_ind_from_stats(mean1 = m1.values, std1 = s1.values, nobs1 = 2, mean2 = m2.values, std2 = s2.values, nobs2 = 2, equal_var = False)\n",
    "        print(data1[data1.data == 0]['filament'].values, data2[data2.data == 0]['filament'].values)\n",
    "        print(ans)"
   ]
  },
  {
   "cell_type": "code",
   "execution_count": 67,
   "metadata": {
    "collapsed": true
   },
   "outputs": [],
   "source": [
    "compare = []\n",
    "stats = []\n",
    "pvals = []\n",
    "for ind1 in x:\n",
    "    for ind2 in x:\n",
    "        data1 = df[df.exp == ind1]\n",
    "        data2 = df[df.exp == ind2]\n",
    "        m1 = data1[data1.data == 0]['leading']\n",
    "        m2 = data2[data2.data == 0]['leading']\n",
    "        s1 = data1[data1.data == 2]['leading']\n",
    "        s2 = data2[data2.data == 2]['leading']\n",
    "        ans = ttest_ind_from_stats(mean1 = m1.values, std1 = s1.values, nobs1 = 2, mean2 = m2.values, std2 = s2.values, nobs2 = 2, equal_var = False)\n",
    "        compare.append((data1[data1.data == 0]['filament'].values, data2[data2.data == 0]['filament'].values))\n",
    "        stats.append(ans[0])\n",
    "        pvals.append(float(ans[1]))"
   ]
  },
  {
   "cell_type": "code",
   "execution_count": 68,
   "metadata": {
    "collapsed": true
   },
   "outputs": [],
   "source": [
    "indices = [i for i, x in enumerate(pvals) if x < 0.05]"
   ]
  },
  {
   "cell_type": "code",
   "execution_count": 69,
   "metadata": {
    "collapsed": true
   },
   "outputs": [],
   "source": [
    "compare_1 = [compare[x] for x in indices]"
   ]
  },
  {
   "cell_type": "code",
   "execution_count": 70,
   "metadata": {},
   "outputs": [
    {
     "data": {
      "text/plain": [
       "[(array(['fas'], dtype=object), array(['dimer'], dtype=object)),\n",
       " (array(['fas'], dtype=object), array(['trimer'], dtype=object)),\n",
       " (array(['dimer'], dtype=object), array(['fas'], dtype=object)),\n",
       " (array(['dimer'], dtype=object), array(['singed'], dtype=object)),\n",
       " (array(['trimer'], dtype=object), array(['fas'], dtype=object)),\n",
       " (array(['singed'], dtype=object), array(['dimer'], dtype=object))]"
      ]
     },
     "execution_count": 70,
     "metadata": {},
     "output_type": "execute_result"
    }
   ],
   "source": [
    "compare_1"
   ]
  },
  {
   "cell_type": "code",
   "execution_count": 71,
   "metadata": {
    "collapsed": true
   },
   "outputs": [],
   "source": [
    "pvalues_1 = [x for i, x in enumerate(pvals) if x < 0.05]"
   ]
  },
  {
   "cell_type": "code",
   "execution_count": 72,
   "metadata": {},
   "outputs": [
    {
     "data": {
      "text/plain": [
       "[0.03299456842175441,\n",
       " 0.04995090207136307,\n",
       " 0.03299456842175441,\n",
       " 0.038301778547505765,\n",
       " 0.04995090207136307,\n",
       " 0.038301778547505765]"
      ]
     },
     "execution_count": 72,
     "metadata": {},
     "output_type": "execute_result"
    }
   ],
   "source": [
    "pvalues_1"
   ]
  },
  {
   "cell_type": "code",
   "execution_count": 73,
   "metadata": {},
   "outputs": [
    {
     "name": "stdout",
     "output_type": "stream",
     "text": [
      "['fas'] ['fas'] 1.0\n",
      "['fas'] ['aact'] 0.6016\n",
      "['fas'] ['fim'] 0.4476\n",
      "['fas'] ['vasp'] 0.6899\n",
      "['fas'] ['unc34'] 0.6136\n",
      "['fas'] ['dimer'] 0.033\n",
      "['fas'] ['trimer'] 0.05\n",
      "['fas'] ['singed'] 0.2515\n",
      "['aact'] ['fas'] 0.6016\n",
      "['aact'] ['aact'] 1.0\n",
      "['aact'] ['fim'] 0.6708\n",
      "['aact'] ['vasp'] 0.4941\n",
      "['aact'] ['unc34'] 0.9278\n",
      "['aact'] ['dimer'] 0.1299\n",
      "['aact'] ['trimer'] 0.1219\n",
      "['aact'] ['singed'] 0.3924\n",
      "['fim'] ['fas'] 0.4476\n",
      "['fim'] ['aact'] 0.6708\n",
      "['fim'] ['fim'] 1.0\n",
      "['fim'] ['vasp'] 0.3588\n",
      "['fim'] ['unc34'] 0.613\n",
      "['fim'] ['dimer'] 0.1485\n",
      "['fim'] ['trimer'] 0.1517\n",
      "['fim'] ['singed'] 0.3402\n",
      "['vasp'] ['fas'] 0.6899\n",
      "['vasp'] ['aact'] 0.4941\n",
      "['vasp'] ['fim'] 0.3588\n",
      "['vasp'] ['vasp'] 1.0\n",
      "['vasp'] ['unc34'] 0.5188\n",
      "['vasp'] ['dimer'] 0.256\n",
      "['vasp'] ['trimer'] 0.3388\n",
      "['vasp'] ['singed'] 0.9534\n",
      "['unc34'] ['fas'] 0.6136\n",
      "['unc34'] ['aact'] 0.9278\n",
      "['unc34'] ['fim'] 0.613\n",
      "['unc34'] ['vasp'] 0.5188\n",
      "['unc34'] ['unc34'] 1.0\n",
      "['unc34'] ['dimer'] 0.1123\n",
      "['unc34'] ['trimer'] 0.0938\n",
      "['unc34'] ['singed'] 0.3682\n",
      "['dimer'] ['fas'] 0.033\n",
      "['dimer'] ['aact'] 0.1299\n",
      "['dimer'] ['fim'] 0.1485\n",
      "['dimer'] ['vasp'] 0.256\n",
      "['dimer'] ['unc34'] 0.1123\n",
      "['dimer'] ['dimer'] 1.0\n",
      "['dimer'] ['trimer'] 0.2634\n",
      "['dimer'] ['singed'] 0.0383\n",
      "['trimer'] ['fas'] 0.05\n",
      "['trimer'] ['aact'] 0.1219\n",
      "['trimer'] ['fim'] 0.1517\n",
      "['trimer'] ['vasp'] 0.3388\n",
      "['trimer'] ['unc34'] 0.0938\n",
      "['trimer'] ['dimer'] 0.2634\n",
      "['trimer'] ['trimer'] 1.0\n",
      "['trimer'] ['singed'] 0.074\n",
      "['singed'] ['fas'] 0.2515\n",
      "['singed'] ['aact'] 0.3924\n",
      "['singed'] ['fim'] 0.3402\n",
      "['singed'] ['vasp'] 0.9534\n",
      "['singed'] ['unc34'] 0.3682\n",
      "['singed'] ['dimer'] 0.0383\n",
      "['singed'] ['trimer'] 0.074\n",
      "['singed'] ['singed'] 1.0\n"
     ]
    }
   ],
   "source": [
    "for i, j in zip(compare, pvals):\n",
    "    print(i[0], i[1], round(j, 4))"
   ]
  },
  {
   "cell_type": "code",
   "execution_count": 74,
   "metadata": {
    "collapsed": true
   },
   "outputs": [],
   "source": [
    "compare_t = []\n",
    "stats_t = []\n",
    "pvals_t = []\n",
    "for ind1 in x:\n",
    "    for ind2 in x:\n",
    "        data1 = df[df.exp == ind1]\n",
    "        data2 = df[df.exp == ind2]\n",
    "        m1 = data1[data1.data == 0]['trailing']\n",
    "        m2 = data2[data2.data == 0]['trailing']\n",
    "        s1 = data1[data1.data == 2]['trailing']\n",
    "        s2 = data2[data2.data == 2]['trailing']\n",
    "        ans = ttest_ind_from_stats(mean1 = m1.values, std1 = s1.values, nobs1 = 2, mean2 = m2.values, std2 = s2.values, nobs2 = 2, equal_var = False)\n",
    "        compare_t.append((data1[data1.data == 0]['filament'].values, data2[data2.data == 0]['filament'].values))\n",
    "        stats_t.append(ans[0])\n",
    "        pvals_t.append(float(ans[1]))"
   ]
  },
  {
   "cell_type": "code",
   "execution_count": 75,
   "metadata": {},
   "outputs": [
    {
     "data": {
      "text/plain": [
       "[]"
      ]
     },
     "execution_count": 75,
     "metadata": {},
     "output_type": "execute_result"
    }
   ],
   "source": [
    "indices_t = [i for i, x in enumerate(pvals_t) if x < 0.05]\n",
    "indices_t"
   ]
  },
  {
   "cell_type": "code",
   "execution_count": 76,
   "metadata": {},
   "outputs": [
    {
     "data": {
      "text/plain": [
       "[]"
      ]
     },
     "execution_count": 76,
     "metadata": {},
     "output_type": "execute_result"
    }
   ],
   "source": [
    "compare1_t = [compare_t[x] for x in indices_t]\n",
    "compare1_t"
   ]
  },
  {
   "cell_type": "code",
   "execution_count": 77,
   "metadata": {},
   "outputs": [
    {
     "name": "stdout",
     "output_type": "stream",
     "text": [
      "['fas'] ['fas'] 1.0\n",
      "['fas'] ['aact'] 0.7065\n",
      "['fas'] ['fim'] 0.3393\n",
      "['fas'] ['vasp'] 0.7741\n",
      "['fas'] ['unc34'] 0.6356\n",
      "['fas'] ['dimer'] 0.2861\n",
      "['fas'] ['trimer'] 0.1781\n",
      "['fas'] ['singed'] 0.9603\n",
      "['aact'] ['fas'] 0.7065\n",
      "['aact'] ['aact'] 1.0\n",
      "['aact'] ['fim'] 0.2578\n",
      "['aact'] ['vasp'] 0.8513\n",
      "['aact'] ['unc34'] 0.6861\n",
      "['aact'] ['dimer'] 0.2662\n",
      "['aact'] ['trimer'] 0.0527\n",
      "['aact'] ['singed'] 0.7038\n",
      "['fim'] ['fas'] 0.3393\n",
      "['fim'] ['aact'] 0.2578\n",
      "['fim'] ['fim'] 1.0\n",
      "['fim'] ['vasp'] 0.9647\n",
      "['fim'] ['unc34'] 0.8115\n",
      "['fim'] ['dimer'] 0.2241\n",
      "['fim'] ['trimer'] 0.0511\n",
      "['fim'] ['singed'] 0.293\n",
      "['vasp'] ['fas'] 0.7741\n",
      "['vasp'] ['aact'] 0.8513\n",
      "['vasp'] ['fim'] 0.9647\n",
      "['vasp'] ['vasp'] 1.0\n",
      "['vasp'] ['unc34'] 0.8111\n",
      "['vasp'] ['dimer'] 0.4052\n",
      "['vasp'] ['trimer'] 0.4755\n",
      "['vasp'] ['singed'] 0.7844\n",
      "['unc34'] ['fas'] 0.6356\n",
      "['unc34'] ['aact'] 0.6861\n",
      "['unc34'] ['fim'] 0.8115\n",
      "['unc34'] ['vasp'] 0.8111\n",
      "['unc34'] ['unc34'] 1.0\n",
      "['unc34'] ['dimer'] 0.3867\n",
      "['unc34'] ['trimer'] 0.4418\n",
      "['unc34'] ['singed'] 0.6426\n",
      "['dimer'] ['fas'] 0.2861\n",
      "['dimer'] ['aact'] 0.2662\n",
      "['dimer'] ['fim'] 0.2241\n",
      "['dimer'] ['vasp'] 0.4052\n",
      "['dimer'] ['unc34'] 0.3867\n",
      "['dimer'] ['dimer'] 1.0\n",
      "['dimer'] ['trimer'] 0.7508\n",
      "['dimer'] ['singed'] 0.2849\n",
      "['trimer'] ['fas'] 0.1781\n",
      "['trimer'] ['aact'] 0.0527\n",
      "['trimer'] ['fim'] 0.0511\n",
      "['trimer'] ['vasp'] 0.4755\n",
      "['trimer'] ['unc34'] 0.4418\n",
      "['trimer'] ['dimer'] 0.7508\n",
      "['trimer'] ['trimer'] 1.0\n",
      "['trimer'] ['singed'] 0.1253\n",
      "['singed'] ['fas'] 0.9603\n",
      "['singed'] ['aact'] 0.7038\n",
      "['singed'] ['fim'] 0.293\n",
      "['singed'] ['vasp'] 0.7844\n",
      "['singed'] ['unc34'] 0.6426\n",
      "['singed'] ['dimer'] 0.2849\n",
      "['singed'] ['trimer'] 0.1253\n",
      "['singed'] ['singed'] 1.0\n"
     ]
    }
   ],
   "source": [
    "for i, j in zip(compare_t, pvals_t):\n",
    "    print(i[0], i[1], round(j, 4))"
   ]
  },
  {
   "cell_type": "code",
   "execution_count": null,
   "metadata": {
    "collapsed": true
   },
   "outputs": [],
   "source": []
  },
  {
   "cell_type": "code",
   "execution_count": null,
   "metadata": {
    "collapsed": true
   },
   "outputs": [],
   "source": []
  }
 ],
 "metadata": {
  "kernelspec": {
   "display_name": "Python 3",
   "language": "python",
   "name": "python3"
  },
  "language_info": {
   "codemirror_mode": {
    "name": "ipython",
    "version": 3
   },
   "file_extension": ".py",
   "mimetype": "text/x-python",
   "name": "python",
   "nbconvert_exporter": "python",
   "pygments_lexer": "ipython3",
   "version": "3.6.3"
  }
 },
 "nbformat": 4,
 "nbformat_minor": 2
}
